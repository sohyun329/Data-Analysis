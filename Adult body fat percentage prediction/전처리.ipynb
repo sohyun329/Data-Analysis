{
 "cells": [
  {
   "cell_type": "code",
   "execution_count": 244,
   "metadata": {
    "id": "zXeD9Get9d8u"
   },
   "outputs": [],
   "source": [
    "import pandas as pd\n",
    "import numpy as np"
   ]
  },
  {
   "cell_type": "markdown",
   "metadata": {
    "id": "C52f_7oRGa9u"
   },
   "source": [
    "- 엑셀로, 콤마와 슬래시(/)는 마침표로 모두 변경함"
   ]
  },
  {
   "cell_type": "code",
   "execution_count": 245,
   "metadata": {
    "colab": {
     "base_uri": "https://localhost:8080/",
     "height": 583
    },
    "id": "kq7iU2HU9oLM",
    "outputId": "9dadb72a-ce89-4c16-956a-e905bd864838",
    "scrolled": true
   },
   "outputs": [
    {
     "data": {
      "text/html": [
       "<div>\n",
       "<style scoped>\n",
       "    .dataframe tbody tr th:only-of-type {\n",
       "        vertical-align: middle;\n",
       "    }\n",
       "\n",
       "    .dataframe tbody tr th {\n",
       "        vertical-align: top;\n",
       "    }\n",
       "\n",
       "    .dataframe thead th {\n",
       "        text-align: right;\n",
       "    }\n",
       "</style>\n",
       "<table border=\"1\" class=\"dataframe\">\n",
       "  <thead>\n",
       "    <tr style=\"text-align: right;\">\n",
       "      <th></th>\n",
       "      <th>측정월</th>\n",
       "      <th>측정일</th>\n",
       "      <th>모델번호</th>\n",
       "      <th>키</th>\n",
       "      <th>목뒤높이</th>\n",
       "      <th>엉덩이높이</th>\n",
       "      <th>겨드랑높이</th>\n",
       "      <th>허리높이</th>\n",
       "      <th>샅높이</th>\n",
       "      <th>무릎높이</th>\n",
       "      <th>...</th>\n",
       "      <th>발너비</th>\n",
       "      <th>얼굴너비</th>\n",
       "      <th>손직선길이</th>\n",
       "      <th>손바닥직선길이</th>\n",
       "      <th>손안쪽가쪽직선길이</th>\n",
       "      <th>몸무게</th>\n",
       "      <th>체지방율</th>\n",
       "      <th>성별</th>\n",
       "      <th>나이</th>\n",
       "      <th>신발굽높이</th>\n",
       "    </tr>\n",
       "  </thead>\n",
       "  <tbody>\n",
       "    <tr>\n",
       "      <th>0</th>\n",
       "      <td>8</td>\n",
       "      <td>10</td>\n",
       "      <td>F001</td>\n",
       "      <td>161.4</td>\n",
       "      <td>136.1</td>\n",
       "      <td>80.1</td>\n",
       "      <td>119.8</td>\n",
       "      <td>94.2</td>\n",
       "      <td>73.2</td>\n",
       "      <td>41.6</td>\n",
       "      <td>...</td>\n",
       "      <td>9.9</td>\n",
       "      <td>12.9</td>\n",
       "      <td>16.0</td>\n",
       "      <td>9.2</td>\n",
       "      <td>7.8</td>\n",
       "      <td>62.9</td>\n",
       "      <td>32.8</td>\n",
       "      <td>F</td>\n",
       "      <td>37</td>\n",
       "      <td>7.8</td>\n",
       "    </tr>\n",
       "    <tr>\n",
       "      <th>1</th>\n",
       "      <td>8</td>\n",
       "      <td>10</td>\n",
       "      <td>F002</td>\n",
       "      <td>168.1</td>\n",
       "      <td>140.4</td>\n",
       "      <td>84.7</td>\n",
       "      <td>123.3</td>\n",
       "      <td>107.0</td>\n",
       "      <td>77.3</td>\n",
       "      <td>45.2</td>\n",
       "      <td>...</td>\n",
       "      <td>9.3</td>\n",
       "      <td>13</td>\n",
       "      <td>17.0</td>\n",
       "      <td>9.2</td>\n",
       "      <td>7.0</td>\n",
       "      <td>56.1</td>\n",
       "      <td>31.5</td>\n",
       "      <td>F</td>\n",
       "      <td>26</td>\n",
       "      <td>2.7</td>\n",
       "    </tr>\n",
       "    <tr>\n",
       "      <th>2</th>\n",
       "      <td>8</td>\n",
       "      <td>10</td>\n",
       "      <td>F003</td>\n",
       "      <td>163.4</td>\n",
       "      <td>138.2</td>\n",
       "      <td>81.9</td>\n",
       "      <td>120.6</td>\n",
       "      <td>97.1</td>\n",
       "      <td>74.8</td>\n",
       "      <td>42.3</td>\n",
       "      <td>...</td>\n",
       "      <td>9.2</td>\n",
       "      <td>11.2</td>\n",
       "      <td>16.9</td>\n",
       "      <td>9.7</td>\n",
       "      <td>7.6</td>\n",
       "      <td>53.2</td>\n",
       "      <td>25.2</td>\n",
       "      <td>F</td>\n",
       "      <td>39</td>\n",
       "      <td>8.0</td>\n",
       "    </tr>\n",
       "    <tr>\n",
       "      <th>3</th>\n",
       "      <td>8</td>\n",
       "      <td>23</td>\n",
       "      <td>F004</td>\n",
       "      <td>164.1</td>\n",
       "      <td>137.8</td>\n",
       "      <td>83.2</td>\n",
       "      <td>123.3</td>\n",
       "      <td>100.1</td>\n",
       "      <td>75.4</td>\n",
       "      <td>42.4</td>\n",
       "      <td>...</td>\n",
       "      <td>9.3</td>\n",
       "      <td>13.8</td>\n",
       "      <td>17.0</td>\n",
       "      <td>10.1</td>\n",
       "      <td>7.6</td>\n",
       "      <td>49.4</td>\n",
       "      <td>21.8</td>\n",
       "      <td>F</td>\n",
       "      <td>30</td>\n",
       "      <td>2.5</td>\n",
       "    </tr>\n",
       "    <tr>\n",
       "      <th>4</th>\n",
       "      <td>8</td>\n",
       "      <td>23</td>\n",
       "      <td>F005</td>\n",
       "      <td>152.9</td>\n",
       "      <td>127.7</td>\n",
       "      <td>71.1</td>\n",
       "      <td>111.3</td>\n",
       "      <td>93.8</td>\n",
       "      <td>63.3</td>\n",
       "      <td>37.0</td>\n",
       "      <td>...</td>\n",
       "      <td>9.8</td>\n",
       "      <td>11.9</td>\n",
       "      <td>16.2</td>\n",
       "      <td>9.1</td>\n",
       "      <td>7.9</td>\n",
       "      <td>51.9</td>\n",
       "      <td>24.2</td>\n",
       "      <td>F</td>\n",
       "      <td>44</td>\n",
       "      <td>1.5</td>\n",
       "    </tr>\n",
       "    <tr>\n",
       "      <th>...</th>\n",
       "      <td>...</td>\n",
       "      <td>...</td>\n",
       "      <td>...</td>\n",
       "      <td>...</td>\n",
       "      <td>...</td>\n",
       "      <td>...</td>\n",
       "      <td>...</td>\n",
       "      <td>...</td>\n",
       "      <td>...</td>\n",
       "      <td>...</td>\n",
       "      <td>...</td>\n",
       "      <td>...</td>\n",
       "      <td>...</td>\n",
       "      <td>...</td>\n",
       "      <td>...</td>\n",
       "      <td>...</td>\n",
       "      <td>...</td>\n",
       "      <td>...</td>\n",
       "      <td>...</td>\n",
       "      <td>...</td>\n",
       "      <td>...</td>\n",
       "    </tr>\n",
       "    <tr>\n",
       "      <th>995</th>\n",
       "      <td>11</td>\n",
       "      <td>30</td>\n",
       "      <td>M498</td>\n",
       "      <td>167.3</td>\n",
       "      <td>141.2</td>\n",
       "      <td>81.4</td>\n",
       "      <td>123.8</td>\n",
       "      <td>98.5</td>\n",
       "      <td>72.4</td>\n",
       "      <td>42.4</td>\n",
       "      <td>...</td>\n",
       "      <td>9.8</td>\n",
       "      <td>14.2</td>\n",
       "      <td>18.1</td>\n",
       "      <td>9.9</td>\n",
       "      <td>7.9</td>\n",
       "      <td>68</td>\n",
       "      <td>15.6</td>\n",
       "      <td>M</td>\n",
       "      <td>58</td>\n",
       "      <td>4.3</td>\n",
       "    </tr>\n",
       "    <tr>\n",
       "      <th>996</th>\n",
       "      <td>11</td>\n",
       "      <td>30</td>\n",
       "      <td>M499</td>\n",
       "      <td>169.9</td>\n",
       "      <td>143.2</td>\n",
       "      <td>81.3</td>\n",
       "      <td>127.9</td>\n",
       "      <td>97.6</td>\n",
       "      <td>69.1</td>\n",
       "      <td>42.4</td>\n",
       "      <td>...</td>\n",
       "      <td>10</td>\n",
       "      <td>14.6</td>\n",
       "      <td>17.2</td>\n",
       "      <td>9.7</td>\n",
       "      <td>8.2</td>\n",
       "      <td>65.2</td>\n",
       "      <td>17.8</td>\n",
       "      <td>M</td>\n",
       "      <td>53</td>\n",
       "      <td>4.5</td>\n",
       "    </tr>\n",
       "    <tr>\n",
       "      <th>997</th>\n",
       "      <td>11</td>\n",
       "      <td>29</td>\n",
       "      <td>M500</td>\n",
       "      <td>173.7</td>\n",
       "      <td>145.3</td>\n",
       "      <td>84.6</td>\n",
       "      <td>128.0</td>\n",
       "      <td>101.5</td>\n",
       "      <td>74.8</td>\n",
       "      <td>44.4</td>\n",
       "      <td>...</td>\n",
       "      <td>10.3</td>\n",
       "      <td>14.1</td>\n",
       "      <td>18.4</td>\n",
       "      <td>10.1</td>\n",
       "      <td>8.0</td>\n",
       "      <td>67.2</td>\n",
       "      <td>20.3</td>\n",
       "      <td>M</td>\n",
       "      <td>30</td>\n",
       "      <td>2.9</td>\n",
       "    </tr>\n",
       "    <tr>\n",
       "      <th>998</th>\n",
       "      <td>9</td>\n",
       "      <td>28</td>\n",
       "      <td>F339</td>\n",
       "      <td>153.4</td>\n",
       "      <td>127.4</td>\n",
       "      <td>78.6</td>\n",
       "      <td>111.5</td>\n",
       "      <td>92.1</td>\n",
       "      <td>68.0</td>\n",
       "      <td>37.4</td>\n",
       "      <td>...</td>\n",
       "      <td>9.8</td>\n",
       "      <td>13.2</td>\n",
       "      <td>16.5</td>\n",
       "      <td>9.3</td>\n",
       "      <td>7.2</td>\n",
       "      <td>52.1</td>\n",
       "      <td>35.6</td>\n",
       "      <td>F</td>\n",
       "      <td>61</td>\n",
       "      <td>6.7</td>\n",
       "    </tr>\n",
       "    <tr>\n",
       "      <th>999</th>\n",
       "      <td>11</td>\n",
       "      <td>29</td>\n",
       "      <td>F501</td>\n",
       "      <td>151.7</td>\n",
       "      <td>124.0</td>\n",
       "      <td>71.5</td>\n",
       "      <td>106.6</td>\n",
       "      <td>88.0</td>\n",
       "      <td>65.4</td>\n",
       "      <td>37.8</td>\n",
       "      <td>...</td>\n",
       "      <td>9.5</td>\n",
       "      <td>14.6</td>\n",
       "      <td>16.2</td>\n",
       "      <td>9.3</td>\n",
       "      <td>7.0</td>\n",
       "      <td>52.7</td>\n",
       "      <td>32.5</td>\n",
       "      <td>F</td>\n",
       "      <td>68</td>\n",
       "      <td>5.0</td>\n",
       "    </tr>\n",
       "  </tbody>\n",
       "</table>\n",
       "<p>1000 rows × 40 columns</p>\n",
       "</div>"
      ],
      "text/plain": [
       "     측정월  측정일  모델번호      키   목뒤높이  엉덩이높이  겨드랑높이   허리높이   샅높이  무릎높이  ...   발너비  \\\n",
       "0      8   10  F001  161.4  136.1   80.1  119.8   94.2  73.2  41.6  ...   9.9   \n",
       "1      8   10  F002  168.1  140.4   84.7  123.3  107.0  77.3  45.2  ...   9.3   \n",
       "2      8   10  F003  163.4  138.2   81.9  120.6   97.1  74.8  42.3  ...   9.2   \n",
       "3      8   23  F004  164.1  137.8   83.2  123.3  100.1  75.4  42.4  ...   9.3   \n",
       "4      8   23  F005  152.9  127.7   71.1  111.3   93.8  63.3  37.0  ...   9.8   \n",
       "..   ...  ...   ...    ...    ...    ...    ...    ...   ...   ...  ...   ...   \n",
       "995   11   30  M498  167.3  141.2   81.4  123.8   98.5  72.4  42.4  ...   9.8   \n",
       "996   11   30  M499  169.9  143.2   81.3  127.9   97.6  69.1  42.4  ...    10   \n",
       "997   11   29  M500  173.7  145.3   84.6  128.0  101.5  74.8  44.4  ...  10.3   \n",
       "998    9   28  F339  153.4  127.4   78.6  111.5   92.1  68.0  37.4  ...   9.8   \n",
       "999   11   29  F501  151.7  124.0   71.5  106.6   88.0  65.4  37.8  ...   9.5   \n",
       "\n",
       "     얼굴너비  손직선길이  손바닥직선길이  손안쪽가쪽직선길이   몸무게  체지방율  성별  나이  신발굽높이  \n",
       "0    12.9   16.0      9.2        7.8  62.9  32.8   F  37    7.8  \n",
       "1      13   17.0      9.2        7.0  56.1  31.5   F  26    2.7  \n",
       "2    11.2   16.9      9.7        7.6  53.2  25.2   F  39    8.0  \n",
       "3    13.8   17.0     10.1        7.6  49.4  21.8   F  30    2.5  \n",
       "4    11.9   16.2      9.1        7.9  51.9  24.2   F  44    1.5  \n",
       "..    ...    ...      ...        ...   ...   ...  ..  ..    ...  \n",
       "995  14.2   18.1      9.9        7.9    68  15.6   M  58    4.3  \n",
       "996  14.6   17.2      9.7        8.2  65.2  17.8   M  53    4.5  \n",
       "997  14.1   18.4     10.1        8.0  67.2  20.3   M  30    2.9  \n",
       "998  13.2   16.5      9.3        7.2  52.1  35.6   F  61    6.7  \n",
       "999  14.6   16.2      9.3        7.0  52.7  32.5   F  68    5.0  \n",
       "\n",
       "[1000 rows x 40 columns]"
      ]
     },
     "execution_count": 245,
     "metadata": {},
     "output_type": "execute_result"
    }
   ],
   "source": [
    "df = pd.read_csv('body_dataset_ex1.csv',encoding='cp949')\n",
    "df"
   ]
  },
  {
   "cell_type": "code",
   "execution_count": 246,
   "metadata": {
    "colab": {
     "base_uri": "https://localhost:8080/"
    },
    "id": "R0_D6MXv9xSP",
    "outputId": "eba0689a-8c09-4be9-8ad4-dd89aef75f40"
   },
   "outputs": [
    {
     "data": {
      "text/plain": [
       "Index(['측정월', '측정일', '모델번호', '키', '목뒤높이', '엉덩이높이', '겨드랑높이', '허리높이', '샅높이',\n",
       "       '무릎높이', '머리둘레', '목둘레', '젖가슴둘레', '허리둘레', '배꼽수준허리둘레', '엉덩이둘레', '넙다리둘레',\n",
       "       '무릎둘레', '장딴지둘레', '종아리최소둘레', '발목둘레', '편위팔둘레', '편팔꿈치둘레', '손목둘레', '위팔길이',\n",
       "       '팔길이', '어깨사이너비', '머리수직길이', '얼굴수직길이', '발크기', '발너비', '얼굴너비', '손직선길이',\n",
       "       '손바닥직선길이', '손안쪽가쪽직선길이', '몸무게', '체지방율', '성별', '나이', '신발굽높이'],\n",
       "      dtype='object')"
      ]
     },
     "execution_count": 246,
     "metadata": {},
     "output_type": "execute_result"
    }
   ],
   "source": [
    "col = df.columns\n",
    "col"
   ]
  },
  {
   "cell_type": "code",
   "execution_count": 247,
   "metadata": {
    "id": "Cs7xMyyL-iD0"
   },
   "outputs": [],
   "source": [
    "df = df.astype(str)"
   ]
  },
  {
   "cell_type": "code",
   "execution_count": 248,
   "metadata": {
    "colab": {
     "base_uri": "https://localhost:8080/"
    },
    "id": "IvtX9CYD_Zfn",
    "outputId": "603de7dc-488a-4230-f02a-35ed4377c984"
   },
   "outputs": [
    {
     "name": "stdout",
     "output_type": "stream",
     "text": [
      "인덱스: 644, 컬럼명: 팔길이, 데이터: 59.440.9\n",
      "인덱스: 587, 컬럼명: 머리수직길이, 데이터: 25.412.4\n",
      "인덱스: 644, 컬럼명: 머리수직길이, 데이터: 10.724.4\n"
     ]
    }
   ],
   "source": [
    "pattern = r'\\d{2}\\.\\d{3}\\.\\d'\n",
    "\n",
    "matches = []  # 패턴에 맞는 데이터와 컬럼명을 저장할 리스트\n",
    "\n",
    "for column in df.columns:\n",
    "    for index, value in df[column].dropna().items():\n",
    "        if pd.notnull(value) and pd.Series(value).str.contains(pattern).iloc[0]:\n",
    "            matches.append((index, column, value))\n",
    "\n",
    "# 패턴에 맞는 데이터와 컬럼명 출력\n",
    "for match in matches:\n",
    "    print(f\"인덱스: {match[0]}, 컬럼명: {match[1]}, 데이터: {match[2]}\")"
   ]
  },
  {
   "cell_type": "code",
   "execution_count": 249,
   "metadata": {
    "id": "G1Uugr5xA6oW"
   },
   "outputs": [],
   "source": [
    "df.loc[644, '팔길이'] = 59.4\n",
    "df.loc[644, '머리수직길이'] = 24.4\n",
    "df.loc[587, '머리수직길이'] = 25.4"
   ]
  },
  {
   "cell_type": "code",
   "execution_count": 250,
   "metadata": {
    "colab": {
     "base_uri": "https://localhost:8080/"
    },
    "id": "DmC5gBRGByE9",
    "outputId": "ea8d6522-ea82-4e2a-affe-9e7fdd8d0483"
   },
   "outputs": [
    {
     "data": {
      "text/plain": [
       "array(['52.1', '54.6', '52.5', '57', '49', '51.1', '53.1', '51.5', '55.9',\n",
       "       '52', '50.3', '50.5', '54.8', '52.3', '54.5', '48.9', '54.4',\n",
       "       '53.8', '49.8', '52.2', '51', '54.3', '53', '55', '54', '51.9',\n",
       "       '46.1', '55.5', '53.9', '50.8', '48', '50', '49.4', '48.1', '50.4',\n",
       "       '55.7', '52.7', '53.6', '54.2', '51.7', '48.6', '48.5', '49.3',\n",
       "       '49.5', '56.8', '48.3', '53.7', '53.3', '32.7', '52.8', '51.2',\n",
       "       '55.2', '51.4', '51.3', '53.5', '51.6', '49.7', '57.6', '48.4',\n",
       "       '50.6', '52.9', '54.7', '48.8', '53.2', '47.4', '53.4', '49.1',\n",
       "       '54.1', '56.3', '50.7', '49.9', '50.9', '57.1', '52.4', '46.7',\n",
       "       '45.2', '49.2', '50.2', '44.5', '56', '52.6', '58.2', '48.7',\n",
       "       '48.2', '46.8', '49.6', '47.5', '55.8', '51.8', '46.2', '50.1',\n",
       "       '46.5', '55.4', '46.6', '56.5', '55.3', '47.2', '47.3', '58.9',\n",
       "       '56.4', '57.3', '57.7', '58.1', '58.7', '59.8', '57.9', '56.1',\n",
       "       '56.9', '55.1', '58.4', '56.7', '58.3', '58', '55.6', '56.2',\n",
       "       '54.9', '25.7', '60.3', '57.8', '59.1', '56.6', '61.4', '60.7',\n",
       "       '57.5', '96.2', '57.2', '58.6', 59.4, '58.8', '59', '60.4', '57.4',\n",
       "       '63.5', '24.1', '63.3', '95.8', '61', '60.5', '98.1', '58.5',\n",
       "       '59.6', '60.1', '59.4', '60.9'], dtype=object)"
      ]
     },
     "execution_count": 250,
     "metadata": {},
     "output_type": "execute_result"
    }
   ],
   "source": [
    "df['팔길이'].unique()"
   ]
  },
  {
   "cell_type": "code",
   "execution_count": 251,
   "metadata": {
    "colab": {
     "base_uri": "https://localhost:8080/"
    },
    "id": "pGppWlZkB4Bb",
    "outputId": "3affb006-ed9a-407f-822c-25ce2552bec3"
   },
   "outputs": [
    {
     "data": {
      "text/plain": [
       "array(['21.2', '22.1', '19.2', '21.8', '22.5', '22.8', '21.1', '21.4',\n",
       "       '21.3', '21', '20.2', '22.3', '22.2', '21.7', '20.4', '19.5',\n",
       "       '20.5', '19.7', '20.8', '20.7', '20.6', '21.6', '21.5', '22', '20',\n",
       "       '23.5', '20.3', '20.9', '22.9', '22.4', '22.6', '23.2', '19.8',\n",
       "       '20.1', '23', '21.9', '23.7', '19.6', '18.8', '23.4', '22.7',\n",
       "       '24.1', '19.9', '18.6', '17.7', '23.8', '19.4', '19.3', '23.1',\n",
       "       '19', '18.5', '24', '23.6', '23.9', '24.6', '25.2', '25', '25.1',\n",
       "       '24.3', '23.3', '24.4', '26', '24.7', 25.4, '24.2', '18.9', '25.5',\n",
       "       '24.5', 24.4, '26.5', '29', '24.9', '25.3', '24.8', '25.8', '25.6'],\n",
       "      dtype=object)"
      ]
     },
     "execution_count": 251,
     "metadata": {},
     "output_type": "execute_result"
    }
   ],
   "source": [
    "df['머리수직길이'].unique()"
   ]
  },
  {
   "cell_type": "markdown",
   "metadata": {
    "id": "cARMP-3lGis4"
   },
   "source": [
    "- 그 외 다른 형태의 데이터 찾기"
   ]
  },
  {
   "cell_type": "code",
   "execution_count": 252,
   "metadata": {
    "colab": {
     "base_uri": "https://localhost:8080/",
     "height": 36
    },
    "id": "O-3zvwQz_xlf",
    "outputId": "e818f225-2a5f-4216-a132-9c2702772db5"
   },
   "outputs": [],
   "source": [
    "df.loc[539,'몸무게'] = 65.6"
   ]
  },
  {
   "cell_type": "code",
   "execution_count": 253,
   "metadata": {
    "colab": {
     "base_uri": "https://localhost:8080/",
     "height": 36
    },
    "id": "I9OZ9fui_nmB",
    "outputId": "f52603fe-701b-4d8d-eb55-7a5210fd7dff"
   },
   "outputs": [],
   "source": [
    "df.loc[539,'위팔길이'] = 30.5"
   ]
  },
  {
   "cell_type": "code",
   "execution_count": 254,
   "metadata": {
    "id": "Lz2mQA6MCu5f"
   },
   "outputs": [],
   "source": [
    "#df.loc[539,'몸무게'] = 0\n",
    "#df.loc[539,'위팔길이'] = 0"
   ]
  },
  {
   "cell_type": "code",
   "execution_count": 255,
   "metadata": {
    "colab": {
     "base_uri": "https://localhost:8080/"
    },
    "id": "M-oo_HPYEF2P",
    "outputId": "ef932d81-2b3a-40d6-e45c-6f42b152c805"
   },
   "outputs": [
    {
     "name": "stdout",
     "output_type": "stream",
     "text": [
      "행: 744, 열: 얼굴너비\n"
     ]
    }
   ],
   "source": [
    "search_value = '8월 13일'\n",
    "\n",
    "def find_value(x):\n",
    "    if x == search_value:\n",
    "        return True\n",
    "    return False\n",
    "\n",
    "matches = df.applymap(find_value)\n",
    "\n",
    "for column in matches.columns:\n",
    "    for row in matches.index:\n",
    "        if matches.at[row, column]:\n",
    "            print(f\"행: {row}, 열: {column}\")"
   ]
  },
  {
   "cell_type": "markdown",
   "metadata": {
    "id": "Agngyrh0Gqe7"
   },
   "source": [
    "- 인덱스 539, 744 데이터 이상한거 확인 -> 0값으로 다 변경해줌"
   ]
  },
  {
   "cell_type": "code",
   "execution_count": 256,
   "metadata": {
    "id": "jQASdehjE5I6"
   },
   "outputs": [],
   "source": [
    "df.loc[744,'얼굴너비'] = 13.8"
   ]
  },
  {
   "cell_type": "code",
   "execution_count": 257,
   "metadata": {
    "colab": {
     "base_uri": "https://localhost:8080/"
    },
    "id": "qUZGd6FSMl_a",
    "outputId": "45595cb6-db85-418f-a176-c6e677d40699"
   },
   "outputs": [
    {
     "name": "stdout",
     "output_type": "stream",
     "text": [
      "행: 641, 열: 발너비\n"
     ]
    }
   ],
   "source": [
    "search_value = '9.T9689'\n",
    "\n",
    "def find_value(x):\n",
    "    if x == search_value:\n",
    "        return True\n",
    "    return False\n",
    "\n",
    "matches = df.applymap(find_value)\n",
    "\n",
    "for column in matches.columns:\n",
    "    for row in matches.index:\n",
    "        if matches.at[row, column]:\n",
    "            print(f\"행: {row}, 열: {column}\")"
   ]
  },
  {
   "cell_type": "code",
   "execution_count": 258,
   "metadata": {
    "id": "vOWlUMp4Mqss"
   },
   "outputs": [],
   "source": [
    "df.loc[641, '발너비'] = 9.9"
   ]
  },
  {
   "cell_type": "code",
   "execution_count": 259,
   "metadata": {
    "colab": {
     "base_uri": "https://localhost:8080/"
    },
    "id": "JdEpLLMVNS-A",
    "outputId": "a48823d0-0db7-4d2b-967a-edbb83ece350"
   },
   "outputs": [
    {
     "name": "stdout",
     "output_type": "stream",
     "text": [
      "행: 596, 열: 얼굴너비\n"
     ]
    }
   ],
   "source": [
    "search_value = '13+W867.8'\n",
    "\n",
    "def find_value(x):\n",
    "    if x == search_value:\n",
    "        return True\n",
    "    return False\n",
    "\n",
    "matches = df.applymap(find_value)\n",
    "\n",
    "for column in matches.columns:\n",
    "    for row in matches.index:\n",
    "        if matches.at[row, column]:\n",
    "            print(f\"행: {row}, 열: {column}\")"
   ]
  },
  {
   "cell_type": "code",
   "execution_count": 260,
   "metadata": {
    "id": "M5Akrl2kNXm8"
   },
   "outputs": [],
   "source": [
    "df.loc[596, '얼굴너비'] = 13.8"
   ]
  },
  {
   "cell_type": "code",
   "execution_count": 261,
   "metadata": {
    "colab": {
     "base_uri": "https://localhost:8080/"
    },
    "id": "PNtw4usnDuR8",
    "outputId": "f9852481-d9c6-43ce-c8e3-97d5c7f1698e"
   },
   "outputs": [
    {
     "data": {
      "text/plain": [
       "측정월            int64\n",
       "측정일            int64\n",
       "모델번호          object\n",
       "키            float64\n",
       "목뒤높이         float64\n",
       "엉덩이높이        float64\n",
       "겨드랑높이        float64\n",
       "허리높이         float64\n",
       "샅높이          float64\n",
       "무릎높이         float64\n",
       "머리둘레         float64\n",
       "목둘레          float64\n",
       "젖가슴둘레        float64\n",
       "허리둘레         float64\n",
       "배꼽수준허리둘레     float64\n",
       "엉덩이둘레        float64\n",
       "넙다리둘레        float64\n",
       "무릎둘레         float64\n",
       "장딴지둘레        float64\n",
       "종아리최소둘레      float64\n",
       "발목둘레         float64\n",
       "편위팔둘레        float64\n",
       "편팔꿈치둘레       float64\n",
       "손목둘레         float64\n",
       "위팔길이         float64\n",
       "팔길이          float64\n",
       "어깨사이너비       float64\n",
       "머리수직길이       float64\n",
       "얼굴수직길이       float64\n",
       "발크기          float64\n",
       "발너비          float64\n",
       "얼굴너비         float64\n",
       "손직선길이        float64\n",
       "손바닥직선길이      float64\n",
       "손안쪽가쪽직선길이    float64\n",
       "몸무게          float64\n",
       "체지방율         float64\n",
       "성별            object\n",
       "나이             int64\n",
       "신발굽높이        float64\n",
       "dtype: object"
      ]
     },
     "execution_count": 261,
     "metadata": {},
     "output_type": "execute_result"
    }
   ],
   "source": [
    "cols = ['측정월', '측정일', '모델번호', '키', '목뒤높이', '엉덩이높이', '겨드랑높이', '허리높이', '샅높이',\n",
    "       '무릎높이', '머리둘레', '목둘레', '젖가슴둘레', '허리둘레', '배꼽수준허리둘레', '엉덩이둘레', '넙다리둘레',\n",
    "       '무릎둘레', '장딴지둘레', '종아리최소둘레', '발목둘레', '편위팔둘레', '편팔꿈치둘레', '손목둘레', '위팔길이',\n",
    "       '팔길이', '어깨사이너비', '머리수직길이', '얼굴수직길이', '발크기', '발너비', '얼굴너비', '손직선길이',\n",
    "       '손바닥직선길이', '손안쪽가쪽직선길이', '몸무게', '체지방율', '성별', '나이', '신발굽높이']\n",
    "\n",
    "convert_dict = {col: float for col in df.columns if col not in ['측정월', '측정일', '모델번호', '성별', '나이']}\n",
    "df['측정월'] = df['측정월'].astype(float).astype(int)\n",
    "df['측정일'] = df['측정일'].astype(float).astype(int)\n",
    "df['나이'] = df['나이'].astype(float).astype(int)\n",
    "\n",
    "df = df.astype(convert_dict)\n",
    "df.dtypes"
   ]
  },
  {
   "cell_type": "markdown",
   "metadata": {
    "id": "q9mTJnjbFcmn"
   },
   "source": [
    "- 인덱스 539, 744 0값 변경해야 함\n",
    "- 결측치 채우기"
   ]
  },
  {
   "cell_type": "markdown",
   "metadata": {
    "id": "XBl6pv58GyPn"
   },
   "source": [
    "- 컬럼생성"
   ]
  },
  {
   "cell_type": "code",
   "execution_count": 262,
   "metadata": {
    "colab": {
     "base_uri": "https://localhost:8080/",
     "height": 583
    },
    "id": "ldz3_ZlDFr5h",
    "outputId": "b56db579-7762-4821-df12-d01ec7d39235"
   },
   "outputs": [
    {
     "data": {
      "text/html": [
       "<div>\n",
       "<style scoped>\n",
       "    .dataframe tbody tr th:only-of-type {\n",
       "        vertical-align: middle;\n",
       "    }\n",
       "\n",
       "    .dataframe tbody tr th {\n",
       "        vertical-align: top;\n",
       "    }\n",
       "\n",
       "    .dataframe thead th {\n",
       "        text-align: right;\n",
       "    }\n",
       "</style>\n",
       "<table border=\"1\" class=\"dataframe\">\n",
       "  <thead>\n",
       "    <tr style=\"text-align: right;\">\n",
       "      <th></th>\n",
       "      <th>측정월</th>\n",
       "      <th>측정일</th>\n",
       "      <th>모델번호</th>\n",
       "      <th>키</th>\n",
       "      <th>목뒤높이</th>\n",
       "      <th>엉덩이높이</th>\n",
       "      <th>겨드랑높이</th>\n",
       "      <th>허리높이</th>\n",
       "      <th>샅높이</th>\n",
       "      <th>무릎높이</th>\n",
       "      <th>...</th>\n",
       "      <th>얼굴너비</th>\n",
       "      <th>손직선길이</th>\n",
       "      <th>손바닥직선길이</th>\n",
       "      <th>손안쪽가쪽직선길이</th>\n",
       "      <th>몸무게</th>\n",
       "      <th>체지방율</th>\n",
       "      <th>성별</th>\n",
       "      <th>나이</th>\n",
       "      <th>신발굽높이</th>\n",
       "      <th>나이대</th>\n",
       "    </tr>\n",
       "  </thead>\n",
       "  <tbody>\n",
       "    <tr>\n",
       "      <th>0</th>\n",
       "      <td>8</td>\n",
       "      <td>10</td>\n",
       "      <td>F001</td>\n",
       "      <td>161.4</td>\n",
       "      <td>136.1</td>\n",
       "      <td>80.1</td>\n",
       "      <td>119.8</td>\n",
       "      <td>94.2</td>\n",
       "      <td>73.2</td>\n",
       "      <td>41.6</td>\n",
       "      <td>...</td>\n",
       "      <td>12.9</td>\n",
       "      <td>16.0</td>\n",
       "      <td>9.2</td>\n",
       "      <td>7.8</td>\n",
       "      <td>62.9</td>\n",
       "      <td>32.8</td>\n",
       "      <td>F</td>\n",
       "      <td>37</td>\n",
       "      <td>7.8</td>\n",
       "      <td>30</td>\n",
       "    </tr>\n",
       "    <tr>\n",
       "      <th>1</th>\n",
       "      <td>8</td>\n",
       "      <td>10</td>\n",
       "      <td>F002</td>\n",
       "      <td>168.1</td>\n",
       "      <td>140.4</td>\n",
       "      <td>84.7</td>\n",
       "      <td>123.3</td>\n",
       "      <td>107.0</td>\n",
       "      <td>77.3</td>\n",
       "      <td>45.2</td>\n",
       "      <td>...</td>\n",
       "      <td>13.0</td>\n",
       "      <td>17.0</td>\n",
       "      <td>9.2</td>\n",
       "      <td>7.0</td>\n",
       "      <td>56.1</td>\n",
       "      <td>31.5</td>\n",
       "      <td>F</td>\n",
       "      <td>26</td>\n",
       "      <td>2.7</td>\n",
       "      <td>20</td>\n",
       "    </tr>\n",
       "    <tr>\n",
       "      <th>2</th>\n",
       "      <td>8</td>\n",
       "      <td>10</td>\n",
       "      <td>F003</td>\n",
       "      <td>163.4</td>\n",
       "      <td>138.2</td>\n",
       "      <td>81.9</td>\n",
       "      <td>120.6</td>\n",
       "      <td>97.1</td>\n",
       "      <td>74.8</td>\n",
       "      <td>42.3</td>\n",
       "      <td>...</td>\n",
       "      <td>11.2</td>\n",
       "      <td>16.9</td>\n",
       "      <td>9.7</td>\n",
       "      <td>7.6</td>\n",
       "      <td>53.2</td>\n",
       "      <td>25.2</td>\n",
       "      <td>F</td>\n",
       "      <td>39</td>\n",
       "      <td>8.0</td>\n",
       "      <td>30</td>\n",
       "    </tr>\n",
       "    <tr>\n",
       "      <th>3</th>\n",
       "      <td>8</td>\n",
       "      <td>23</td>\n",
       "      <td>F004</td>\n",
       "      <td>164.1</td>\n",
       "      <td>137.8</td>\n",
       "      <td>83.2</td>\n",
       "      <td>123.3</td>\n",
       "      <td>100.1</td>\n",
       "      <td>75.4</td>\n",
       "      <td>42.4</td>\n",
       "      <td>...</td>\n",
       "      <td>13.8</td>\n",
       "      <td>17.0</td>\n",
       "      <td>10.1</td>\n",
       "      <td>7.6</td>\n",
       "      <td>49.4</td>\n",
       "      <td>21.8</td>\n",
       "      <td>F</td>\n",
       "      <td>30</td>\n",
       "      <td>2.5</td>\n",
       "      <td>30</td>\n",
       "    </tr>\n",
       "    <tr>\n",
       "      <th>4</th>\n",
       "      <td>8</td>\n",
       "      <td>23</td>\n",
       "      <td>F005</td>\n",
       "      <td>152.9</td>\n",
       "      <td>127.7</td>\n",
       "      <td>71.1</td>\n",
       "      <td>111.3</td>\n",
       "      <td>93.8</td>\n",
       "      <td>63.3</td>\n",
       "      <td>37.0</td>\n",
       "      <td>...</td>\n",
       "      <td>11.9</td>\n",
       "      <td>16.2</td>\n",
       "      <td>9.1</td>\n",
       "      <td>7.9</td>\n",
       "      <td>51.9</td>\n",
       "      <td>24.2</td>\n",
       "      <td>F</td>\n",
       "      <td>44</td>\n",
       "      <td>1.5</td>\n",
       "      <td>40</td>\n",
       "    </tr>\n",
       "    <tr>\n",
       "      <th>...</th>\n",
       "      <td>...</td>\n",
       "      <td>...</td>\n",
       "      <td>...</td>\n",
       "      <td>...</td>\n",
       "      <td>...</td>\n",
       "      <td>...</td>\n",
       "      <td>...</td>\n",
       "      <td>...</td>\n",
       "      <td>...</td>\n",
       "      <td>...</td>\n",
       "      <td>...</td>\n",
       "      <td>...</td>\n",
       "      <td>...</td>\n",
       "      <td>...</td>\n",
       "      <td>...</td>\n",
       "      <td>...</td>\n",
       "      <td>...</td>\n",
       "      <td>...</td>\n",
       "      <td>...</td>\n",
       "      <td>...</td>\n",
       "      <td>...</td>\n",
       "    </tr>\n",
       "    <tr>\n",
       "      <th>995</th>\n",
       "      <td>11</td>\n",
       "      <td>30</td>\n",
       "      <td>M498</td>\n",
       "      <td>167.3</td>\n",
       "      <td>141.2</td>\n",
       "      <td>81.4</td>\n",
       "      <td>123.8</td>\n",
       "      <td>98.5</td>\n",
       "      <td>72.4</td>\n",
       "      <td>42.4</td>\n",
       "      <td>...</td>\n",
       "      <td>14.2</td>\n",
       "      <td>18.1</td>\n",
       "      <td>9.9</td>\n",
       "      <td>7.9</td>\n",
       "      <td>68.0</td>\n",
       "      <td>15.6</td>\n",
       "      <td>M</td>\n",
       "      <td>58</td>\n",
       "      <td>4.3</td>\n",
       "      <td>50</td>\n",
       "    </tr>\n",
       "    <tr>\n",
       "      <th>996</th>\n",
       "      <td>11</td>\n",
       "      <td>30</td>\n",
       "      <td>M499</td>\n",
       "      <td>169.9</td>\n",
       "      <td>143.2</td>\n",
       "      <td>81.3</td>\n",
       "      <td>127.9</td>\n",
       "      <td>97.6</td>\n",
       "      <td>69.1</td>\n",
       "      <td>42.4</td>\n",
       "      <td>...</td>\n",
       "      <td>14.6</td>\n",
       "      <td>17.2</td>\n",
       "      <td>9.7</td>\n",
       "      <td>8.2</td>\n",
       "      <td>65.2</td>\n",
       "      <td>17.8</td>\n",
       "      <td>M</td>\n",
       "      <td>53</td>\n",
       "      <td>4.5</td>\n",
       "      <td>50</td>\n",
       "    </tr>\n",
       "    <tr>\n",
       "      <th>997</th>\n",
       "      <td>11</td>\n",
       "      <td>29</td>\n",
       "      <td>M500</td>\n",
       "      <td>173.7</td>\n",
       "      <td>145.3</td>\n",
       "      <td>84.6</td>\n",
       "      <td>128.0</td>\n",
       "      <td>101.5</td>\n",
       "      <td>74.8</td>\n",
       "      <td>44.4</td>\n",
       "      <td>...</td>\n",
       "      <td>14.1</td>\n",
       "      <td>18.4</td>\n",
       "      <td>10.1</td>\n",
       "      <td>8.0</td>\n",
       "      <td>67.2</td>\n",
       "      <td>20.3</td>\n",
       "      <td>M</td>\n",
       "      <td>30</td>\n",
       "      <td>2.9</td>\n",
       "      <td>30</td>\n",
       "    </tr>\n",
       "    <tr>\n",
       "      <th>998</th>\n",
       "      <td>9</td>\n",
       "      <td>28</td>\n",
       "      <td>F339</td>\n",
       "      <td>153.4</td>\n",
       "      <td>127.4</td>\n",
       "      <td>78.6</td>\n",
       "      <td>111.5</td>\n",
       "      <td>92.1</td>\n",
       "      <td>68.0</td>\n",
       "      <td>37.4</td>\n",
       "      <td>...</td>\n",
       "      <td>13.2</td>\n",
       "      <td>16.5</td>\n",
       "      <td>9.3</td>\n",
       "      <td>7.2</td>\n",
       "      <td>52.1</td>\n",
       "      <td>35.6</td>\n",
       "      <td>F</td>\n",
       "      <td>61</td>\n",
       "      <td>6.7</td>\n",
       "      <td>60</td>\n",
       "    </tr>\n",
       "    <tr>\n",
       "      <th>999</th>\n",
       "      <td>11</td>\n",
       "      <td>29</td>\n",
       "      <td>F501</td>\n",
       "      <td>151.7</td>\n",
       "      <td>124.0</td>\n",
       "      <td>71.5</td>\n",
       "      <td>106.6</td>\n",
       "      <td>88.0</td>\n",
       "      <td>65.4</td>\n",
       "      <td>37.8</td>\n",
       "      <td>...</td>\n",
       "      <td>14.6</td>\n",
       "      <td>16.2</td>\n",
       "      <td>9.3</td>\n",
       "      <td>7.0</td>\n",
       "      <td>52.7</td>\n",
       "      <td>32.5</td>\n",
       "      <td>F</td>\n",
       "      <td>68</td>\n",
       "      <td>5.0</td>\n",
       "      <td>60</td>\n",
       "    </tr>\n",
       "  </tbody>\n",
       "</table>\n",
       "<p>1000 rows × 41 columns</p>\n",
       "</div>"
      ],
      "text/plain": [
       "     측정월  측정일  모델번호      키   목뒤높이  엉덩이높이  겨드랑높이   허리높이   샅높이  무릎높이  ...  얼굴너비  \\\n",
       "0      8   10  F001  161.4  136.1   80.1  119.8   94.2  73.2  41.6  ...  12.9   \n",
       "1      8   10  F002  168.1  140.4   84.7  123.3  107.0  77.3  45.2  ...  13.0   \n",
       "2      8   10  F003  163.4  138.2   81.9  120.6   97.1  74.8  42.3  ...  11.2   \n",
       "3      8   23  F004  164.1  137.8   83.2  123.3  100.1  75.4  42.4  ...  13.8   \n",
       "4      8   23  F005  152.9  127.7   71.1  111.3   93.8  63.3  37.0  ...  11.9   \n",
       "..   ...  ...   ...    ...    ...    ...    ...    ...   ...   ...  ...   ...   \n",
       "995   11   30  M498  167.3  141.2   81.4  123.8   98.5  72.4  42.4  ...  14.2   \n",
       "996   11   30  M499  169.9  143.2   81.3  127.9   97.6  69.1  42.4  ...  14.6   \n",
       "997   11   29  M500  173.7  145.3   84.6  128.0  101.5  74.8  44.4  ...  14.1   \n",
       "998    9   28  F339  153.4  127.4   78.6  111.5   92.1  68.0  37.4  ...  13.2   \n",
       "999   11   29  F501  151.7  124.0   71.5  106.6   88.0  65.4  37.8  ...  14.6   \n",
       "\n",
       "     손직선길이  손바닥직선길이  손안쪽가쪽직선길이   몸무게  체지방율  성별  나이  신발굽높이  나이대  \n",
       "0     16.0      9.2        7.8  62.9  32.8   F  37    7.8   30  \n",
       "1     17.0      9.2        7.0  56.1  31.5   F  26    2.7   20  \n",
       "2     16.9      9.7        7.6  53.2  25.2   F  39    8.0   30  \n",
       "3     17.0     10.1        7.6  49.4  21.8   F  30    2.5   30  \n",
       "4     16.2      9.1        7.9  51.9  24.2   F  44    1.5   40  \n",
       "..     ...      ...        ...   ...   ...  ..  ..    ...  ...  \n",
       "995   18.1      9.9        7.9  68.0  15.6   M  58    4.3   50  \n",
       "996   17.2      9.7        8.2  65.2  17.8   M  53    4.5   50  \n",
       "997   18.4     10.1        8.0  67.2  20.3   M  30    2.9   30  \n",
       "998   16.5      9.3        7.2  52.1  35.6   F  61    6.7   60  \n",
       "999   16.2      9.3        7.0  52.7  32.5   F  68    5.0   60  \n",
       "\n",
       "[1000 rows x 41 columns]"
      ]
     },
     "execution_count": 262,
     "metadata": {},
     "output_type": "execute_result"
    }
   ],
   "source": [
    "# 나이대 컬럼 생성\n",
    "\n",
    "df['나이대'] = df['나이'].apply(lambda x: str((x // 10) * 10))\n",
    "df"
   ]
  },
  {
   "cell_type": "code",
   "execution_count": 263,
   "metadata": {
    "colab": {
     "base_uri": "https://localhost:8080/",
     "height": 332
    },
    "id": "OnhA_5GzFuLY",
    "outputId": "84184009-388a-4a41-c530-c1641bbb26d9"
   },
   "outputs": [
    {
     "data": {
      "text/html": [
       "<div>\n",
       "<style scoped>\n",
       "    .dataframe tbody tr th:only-of-type {\n",
       "        vertical-align: middle;\n",
       "    }\n",
       "\n",
       "    .dataframe tbody tr th {\n",
       "        vertical-align: top;\n",
       "    }\n",
       "\n",
       "    .dataframe thead th {\n",
       "        text-align: right;\n",
       "    }\n",
       "</style>\n",
       "<table border=\"1\" class=\"dataframe\">\n",
       "  <thead>\n",
       "    <tr style=\"text-align: right;\">\n",
       "      <th></th>\n",
       "      <th>측정월</th>\n",
       "      <th>측정일</th>\n",
       "      <th>모델번호</th>\n",
       "      <th>키</th>\n",
       "      <th>목뒤높이</th>\n",
       "      <th>엉덩이높이</th>\n",
       "      <th>겨드랑높이</th>\n",
       "      <th>허리높이</th>\n",
       "      <th>샅높이</th>\n",
       "      <th>무릎높이</th>\n",
       "      <th>...</th>\n",
       "      <th>손직선길이</th>\n",
       "      <th>손바닥직선길이</th>\n",
       "      <th>손안쪽가쪽직선길이</th>\n",
       "      <th>몸무게</th>\n",
       "      <th>체지방율</th>\n",
       "      <th>성별</th>\n",
       "      <th>나이</th>\n",
       "      <th>신발굽높이</th>\n",
       "      <th>나이대</th>\n",
       "      <th>BMI</th>\n",
       "    </tr>\n",
       "  </thead>\n",
       "  <tbody>\n",
       "    <tr>\n",
       "      <th>0</th>\n",
       "      <td>8</td>\n",
       "      <td>10</td>\n",
       "      <td>F001</td>\n",
       "      <td>161.4</td>\n",
       "      <td>136.1</td>\n",
       "      <td>80.1</td>\n",
       "      <td>119.8</td>\n",
       "      <td>94.2</td>\n",
       "      <td>73.2</td>\n",
       "      <td>41.6</td>\n",
       "      <td>...</td>\n",
       "      <td>16.0</td>\n",
       "      <td>9.2</td>\n",
       "      <td>7.8</td>\n",
       "      <td>62.9</td>\n",
       "      <td>32.8</td>\n",
       "      <td>F</td>\n",
       "      <td>37</td>\n",
       "      <td>7.8</td>\n",
       "      <td>30</td>\n",
       "      <td>24.145910</td>\n",
       "    </tr>\n",
       "    <tr>\n",
       "      <th>1</th>\n",
       "      <td>8</td>\n",
       "      <td>10</td>\n",
       "      <td>F002</td>\n",
       "      <td>168.1</td>\n",
       "      <td>140.4</td>\n",
       "      <td>84.7</td>\n",
       "      <td>123.3</td>\n",
       "      <td>107.0</td>\n",
       "      <td>77.3</td>\n",
       "      <td>45.2</td>\n",
       "      <td>...</td>\n",
       "      <td>17.0</td>\n",
       "      <td>9.2</td>\n",
       "      <td>7.0</td>\n",
       "      <td>56.1</td>\n",
       "      <td>31.5</td>\n",
       "      <td>F</td>\n",
       "      <td>26</td>\n",
       "      <td>2.7</td>\n",
       "      <td>20</td>\n",
       "      <td>19.853059</td>\n",
       "    </tr>\n",
       "    <tr>\n",
       "      <th>2</th>\n",
       "      <td>8</td>\n",
       "      <td>10</td>\n",
       "      <td>F003</td>\n",
       "      <td>163.4</td>\n",
       "      <td>138.2</td>\n",
       "      <td>81.9</td>\n",
       "      <td>120.6</td>\n",
       "      <td>97.1</td>\n",
       "      <td>74.8</td>\n",
       "      <td>42.3</td>\n",
       "      <td>...</td>\n",
       "      <td>16.9</td>\n",
       "      <td>9.7</td>\n",
       "      <td>7.6</td>\n",
       "      <td>53.2</td>\n",
       "      <td>25.2</td>\n",
       "      <td>F</td>\n",
       "      <td>39</td>\n",
       "      <td>8.0</td>\n",
       "      <td>30</td>\n",
       "      <td>19.925422</td>\n",
       "    </tr>\n",
       "  </tbody>\n",
       "</table>\n",
       "<p>3 rows × 42 columns</p>\n",
       "</div>"
      ],
      "text/plain": [
       "   측정월  측정일  모델번호      키   목뒤높이  엉덩이높이  겨드랑높이   허리높이   샅높이  무릎높이  ...  손직선길이  \\\n",
       "0    8   10  F001  161.4  136.1   80.1  119.8   94.2  73.2  41.6  ...   16.0   \n",
       "1    8   10  F002  168.1  140.4   84.7  123.3  107.0  77.3  45.2  ...   17.0   \n",
       "2    8   10  F003  163.4  138.2   81.9  120.6   97.1  74.8  42.3  ...   16.9   \n",
       "\n",
       "   손바닥직선길이  손안쪽가쪽직선길이   몸무게  체지방율  성별  나이  신발굽높이  나이대        BMI  \n",
       "0      9.2        7.8  62.9  32.8   F  37    7.8   30  24.145910  \n",
       "1      9.2        7.0  56.1  31.5   F  26    2.7   20  19.853059  \n",
       "2      9.7        7.6  53.2  25.2   F  39    8.0   30  19.925422  \n",
       "\n",
       "[3 rows x 42 columns]"
      ]
     },
     "execution_count": 263,
     "metadata": {},
     "output_type": "execute_result"
    }
   ],
   "source": [
    "# BMI 컬럼 생성\n",
    "df['BMI'] = df['몸무게']/((df['키']/100)**2)\n",
    "df.head(3)"
   ]
  },
  {
   "cell_type": "code",
   "execution_count": 264,
   "metadata": {
    "colab": {
     "base_uri": "https://localhost:8080/",
     "height": 418
    },
    "id": "_nr-DdS0F0AT",
    "outputId": "b764ffd5-21a8-4f33-bae1-be046b78e295"
   },
   "outputs": [
    {
     "data": {
      "text/html": [
       "<div>\n",
       "<style scoped>\n",
       "    .dataframe tbody tr th:only-of-type {\n",
       "        vertical-align: middle;\n",
       "    }\n",
       "\n",
       "    .dataframe tbody tr th {\n",
       "        vertical-align: top;\n",
       "    }\n",
       "\n",
       "    .dataframe thead th {\n",
       "        text-align: right;\n",
       "    }\n",
       "</style>\n",
       "<table border=\"1\" class=\"dataframe\">\n",
       "  <thead>\n",
       "    <tr style=\"text-align: right;\">\n",
       "      <th></th>\n",
       "      <th>측정월</th>\n",
       "      <th>측정일</th>\n",
       "      <th>모델번호</th>\n",
       "      <th>키</th>\n",
       "      <th>목뒤높이</th>\n",
       "      <th>엉덩이높이</th>\n",
       "      <th>겨드랑높이</th>\n",
       "      <th>허리높이</th>\n",
       "      <th>샅높이</th>\n",
       "      <th>무릎높이</th>\n",
       "      <th>...</th>\n",
       "      <th>손바닥직선길이</th>\n",
       "      <th>손안쪽가쪽직선길이</th>\n",
       "      <th>몸무게</th>\n",
       "      <th>체지방율</th>\n",
       "      <th>성별</th>\n",
       "      <th>나이</th>\n",
       "      <th>신발굽높이</th>\n",
       "      <th>나이대</th>\n",
       "      <th>BMI</th>\n",
       "      <th>체중분류</th>\n",
       "    </tr>\n",
       "  </thead>\n",
       "  <tbody>\n",
       "    <tr>\n",
       "      <th>0</th>\n",
       "      <td>8</td>\n",
       "      <td>10</td>\n",
       "      <td>F001</td>\n",
       "      <td>161.4</td>\n",
       "      <td>136.1</td>\n",
       "      <td>80.1</td>\n",
       "      <td>119.8</td>\n",
       "      <td>94.2</td>\n",
       "      <td>73.2</td>\n",
       "      <td>41.6</td>\n",
       "      <td>...</td>\n",
       "      <td>9.2</td>\n",
       "      <td>7.8</td>\n",
       "      <td>62.9</td>\n",
       "      <td>32.8</td>\n",
       "      <td>F</td>\n",
       "      <td>37</td>\n",
       "      <td>7.8</td>\n",
       "      <td>30</td>\n",
       "      <td>24.145910</td>\n",
       "      <td>비만</td>\n",
       "    </tr>\n",
       "    <tr>\n",
       "      <th>1</th>\n",
       "      <td>8</td>\n",
       "      <td>10</td>\n",
       "      <td>F002</td>\n",
       "      <td>168.1</td>\n",
       "      <td>140.4</td>\n",
       "      <td>84.7</td>\n",
       "      <td>123.3</td>\n",
       "      <td>107.0</td>\n",
       "      <td>77.3</td>\n",
       "      <td>45.2</td>\n",
       "      <td>...</td>\n",
       "      <td>9.2</td>\n",
       "      <td>7.0</td>\n",
       "      <td>56.1</td>\n",
       "      <td>31.5</td>\n",
       "      <td>F</td>\n",
       "      <td>26</td>\n",
       "      <td>2.7</td>\n",
       "      <td>20</td>\n",
       "      <td>19.853059</td>\n",
       "      <td>비만</td>\n",
       "    </tr>\n",
       "    <tr>\n",
       "      <th>2</th>\n",
       "      <td>8</td>\n",
       "      <td>10</td>\n",
       "      <td>F003</td>\n",
       "      <td>163.4</td>\n",
       "      <td>138.2</td>\n",
       "      <td>81.9</td>\n",
       "      <td>120.6</td>\n",
       "      <td>97.1</td>\n",
       "      <td>74.8</td>\n",
       "      <td>42.3</td>\n",
       "      <td>...</td>\n",
       "      <td>9.7</td>\n",
       "      <td>7.6</td>\n",
       "      <td>53.2</td>\n",
       "      <td>25.2</td>\n",
       "      <td>F</td>\n",
       "      <td>39</td>\n",
       "      <td>8.0</td>\n",
       "      <td>30</td>\n",
       "      <td>19.925422</td>\n",
       "      <td>정상체중</td>\n",
       "    </tr>\n",
       "  </tbody>\n",
       "</table>\n",
       "<p>3 rows × 43 columns</p>\n",
       "</div>"
      ],
      "text/plain": [
       "   측정월  측정일  모델번호      키   목뒤높이  엉덩이높이  겨드랑높이   허리높이   샅높이  무릎높이  ...  \\\n",
       "0    8   10  F001  161.4  136.1   80.1  119.8   94.2  73.2  41.6  ...   \n",
       "1    8   10  F002  168.1  140.4   84.7  123.3  107.0  77.3  45.2  ...   \n",
       "2    8   10  F003  163.4  138.2   81.9  120.6   97.1  74.8  42.3  ...   \n",
       "\n",
       "   손바닥직선길이  손안쪽가쪽직선길이   몸무게  체지방율  성별  나이  신발굽높이  나이대        BMI  체중분류  \n",
       "0      9.2        7.8  62.9  32.8   F  37    7.8   30  24.145910    비만  \n",
       "1      9.2        7.0  56.1  31.5   F  26    2.7   20  19.853059    비만  \n",
       "2      9.7        7.6  53.2  25.2   F  39    8.0   30  19.925422  정상체중  \n",
       "\n",
       "[3 rows x 43 columns]"
      ]
     },
     "execution_count": 264,
     "metadata": {},
     "output_type": "execute_result"
    }
   ],
   "source": [
    "# 체중 분류 컬럼 생성\n",
    "\n",
    "def male(data):\n",
    "    if 0 <= data <= 24:\n",
    "        return '정상체중'\n",
    "    else:\n",
    "        return '비만'\n",
    "\n",
    "def female(data):\n",
    "    if 0 <= data <= 31:\n",
    "        return '정상체중'\n",
    "    else :\n",
    "        return '비만'\n",
    "\n",
    "def classify_body_fat(row):\n",
    "    if row['성별'] == 'M':\n",
    "        return male(row['체지방율'])\n",
    "    elif row['성별'] == 'F':\n",
    "        return female(row['체지방율'])\n",
    "    else:\n",
    "        return '성별 불명'\n",
    "\n",
    "df['체중분류'] = df.apply(classify_body_fat, axis=1)\n",
    "df.head(3)"
   ]
  },
  {
   "cell_type": "code",
   "execution_count": 265,
   "metadata": {
    "colab": {
     "base_uri": "https://localhost:8080/"
    },
    "id": "SgSUNcgnGLHz",
    "outputId": "48923bfa-0838-4ecf-9b5a-d5dbf5f081ab"
   },
   "outputs": [
    {
     "data": {
      "text/plain": [
       "비만      568\n",
       "정상체중    432\n",
       "Name: 체중분류, dtype: int64"
      ]
     },
     "execution_count": 265,
     "metadata": {},
     "output_type": "execute_result"
    }
   ],
   "source": [
    "df['체중분류'].value_counts()"
   ]
  },
  {
   "cell_type": "markdown",
   "metadata": {
    "id": "xGeP5vfAGX-E"
   },
   "source": [
    "- 결측치 찾기"
   ]
  },
  {
   "cell_type": "code",
   "execution_count": 266,
   "metadata": {
    "colab": {
     "base_uri": "https://localhost:8080/"
    },
    "id": "MHbCXLALFjuG",
    "outputId": "80a6c644-d2ff-416c-8753-a82e461a7e7e"
   },
   "outputs": [
    {
     "data": {
      "text/plain": [
       "측정월          0\n",
       "측정일          0\n",
       "모델번호         0\n",
       "키            0\n",
       "목뒤높이         0\n",
       "엉덩이높이        0\n",
       "겨드랑높이        0\n",
       "허리높이         0\n",
       "샅높이          0\n",
       "무릎높이         1\n",
       "머리둘레         1\n",
       "목둘레          1\n",
       "젖가슴둘레        1\n",
       "허리둘레         1\n",
       "배꼽수준허리둘레     0\n",
       "엉덩이둘레        0\n",
       "넙다리둘레        0\n",
       "무릎둘레         0\n",
       "장딴지둘레        0\n",
       "종아리최소둘레      0\n",
       "발목둘레         0\n",
       "편위팔둘레        0\n",
       "편팔꿈치둘레       0\n",
       "손목둘레         0\n",
       "위팔길이         0\n",
       "팔길이          0\n",
       "어깨사이너비       0\n",
       "머리수직길이       0\n",
       "얼굴수직길이       0\n",
       "발크기          0\n",
       "발너비          0\n",
       "얼굴너비         0\n",
       "손직선길이        0\n",
       "손바닥직선길이      0\n",
       "손안쪽가쪽직선길이    0\n",
       "몸무게          0\n",
       "체지방율         0\n",
       "성별           0\n",
       "나이           0\n",
       "신발굽높이        0\n",
       "나이대          0\n",
       "BMI          0\n",
       "체중분류         0\n",
       "dtype: int64"
      ]
     },
     "execution_count": 266,
     "metadata": {},
     "output_type": "execute_result"
    }
   ],
   "source": [
    "df.isnull().sum()"
   ]
  },
  {
   "cell_type": "code",
   "execution_count": 267,
   "metadata": {
    "colab": {
     "base_uri": "https://localhost:8080/",
     "height": 286
    },
    "id": "6gMLFInOFk5K",
    "outputId": "24635488-fc77-46be-9ad8-19d68bade839"
   },
   "outputs": [
    {
     "data": {
      "text/html": [
       "<div>\n",
       "<style scoped>\n",
       "    .dataframe tbody tr th:only-of-type {\n",
       "        vertical-align: middle;\n",
       "    }\n",
       "\n",
       "    .dataframe tbody tr th {\n",
       "        vertical-align: top;\n",
       "    }\n",
       "\n",
       "    .dataframe thead th {\n",
       "        text-align: right;\n",
       "    }\n",
       "</style>\n",
       "<table border=\"1\" class=\"dataframe\">\n",
       "  <thead>\n",
       "    <tr style=\"text-align: right;\">\n",
       "      <th></th>\n",
       "      <th>측정월</th>\n",
       "      <th>측정일</th>\n",
       "      <th>모델번호</th>\n",
       "      <th>키</th>\n",
       "      <th>목뒤높이</th>\n",
       "      <th>엉덩이높이</th>\n",
       "      <th>겨드랑높이</th>\n",
       "      <th>허리높이</th>\n",
       "      <th>샅높이</th>\n",
       "      <th>무릎높이</th>\n",
       "      <th>...</th>\n",
       "      <th>손바닥직선길이</th>\n",
       "      <th>손안쪽가쪽직선길이</th>\n",
       "      <th>몸무게</th>\n",
       "      <th>체지방율</th>\n",
       "      <th>성별</th>\n",
       "      <th>나이</th>\n",
       "      <th>신발굽높이</th>\n",
       "      <th>나이대</th>\n",
       "      <th>BMI</th>\n",
       "      <th>체중분류</th>\n",
       "    </tr>\n",
       "  </thead>\n",
       "  <tbody>\n",
       "    <tr>\n",
       "      <th>865</th>\n",
       "      <td>11</td>\n",
       "      <td>11</td>\n",
       "      <td>M368</td>\n",
       "      <td>170.9</td>\n",
       "      <td>143.1</td>\n",
       "      <td>125.0</td>\n",
       "      <td>103.8</td>\n",
       "      <td>74.9</td>\n",
       "      <td>45.4</td>\n",
       "      <td>NaN</td>\n",
       "      <td>...</td>\n",
       "      <td>10.7</td>\n",
       "      <td>7.4</td>\n",
       "      <td>73.3</td>\n",
       "      <td>31.3</td>\n",
       "      <td>M</td>\n",
       "      <td>55</td>\n",
       "      <td>3.5</td>\n",
       "      <td>50</td>\n",
       "      <td>25.096887</td>\n",
       "      <td>비만</td>\n",
       "    </tr>\n",
       "  </tbody>\n",
       "</table>\n",
       "<p>1 rows × 43 columns</p>\n",
       "</div>"
      ],
      "text/plain": [
       "     측정월  측정일  모델번호      키   목뒤높이  엉덩이높이  겨드랑높이  허리높이   샅높이  무릎높이  ...  \\\n",
       "865   11   11  M368  170.9  143.1  125.0  103.8  74.9  45.4   NaN  ...   \n",
       "\n",
       "     손바닥직선길이  손안쪽가쪽직선길이   몸무게  체지방율  성별  나이  신발굽높이  나이대        BMI  체중분류  \n",
       "865     10.7        7.4  73.3  31.3   M  55    3.5   50  25.096887    비만  \n",
       "\n",
       "[1 rows x 43 columns]"
      ]
     },
     "execution_count": 267,
     "metadata": {},
     "output_type": "execute_result"
    }
   ],
   "source": [
    "missing_rows = df[df.isnull().any(axis=1)]\n",
    "missing_rows"
   ]
  },
  {
   "cell_type": "code",
   "execution_count": 268,
   "metadata": {
    "colab": {
     "base_uri": "https://localhost:8080/"
    },
    "id": "4k_lJWeXG1OL",
    "outputId": "79c5dc29-b1b9-47f8-84b0-d7c2d18e3166"
   },
   "outputs": [
    {
     "data": {
      "text/plain": [
       "([865], [865], [865], [865], [865])"
      ]
     },
     "execution_count": 268,
     "metadata": {},
     "output_type": "execute_result"
    }
   ],
   "source": [
    "n1 = df[df['무릎높이'].isnull()]\n",
    "n2 = df[df['머리둘레'].isnull()]\n",
    "n3 = df[df['목둘레'].isnull()]\n",
    "n4 = df[df['젖가슴둘레'].isnull()]\n",
    "n5 = df[df['허리둘레'].isnull()]\n",
    "\n",
    "n1.index.tolist(), n2.index.tolist(), n3.index.tolist(), n4.index.tolist(), n5.index.tolist()"
   ]
  },
  {
   "cell_type": "markdown",
   "metadata": {
    "id": "UMuOGGL9G5SJ"
   },
   "source": [
    "- 856만 결측치 존재"
   ]
  },
  {
   "cell_type": "code",
   "execution_count": 269,
   "metadata": {
    "colab": {
     "base_uri": "https://localhost:8080/"
    },
    "id": "Am1CaZaHG3PD",
    "outputId": "f35fcbcb-7e0e-47d0-d7eb-365811181b10"
   },
   "outputs": [
    {
     "data": {
      "text/plain": [
       "측정월                 11\n",
       "측정일                 10\n",
       "모델번호              M359\n",
       "키                174.0\n",
       "목뒤높이             145.2\n",
       "엉덩이높이             83.3\n",
       "겨드랑높이            127.6\n",
       "허리높이             105.7\n",
       "샅높이               75.9\n",
       "무릎높이              48.1\n",
       "머리둘레              57.3\n",
       "목둘레               37.6\n",
       "젖가슴둘레             87.6\n",
       "허리둘레              79.8\n",
       "배꼽수준허리둘레          84.2\n",
       "엉덩이둘레             94.1\n",
       "넙다리둘레             56.8\n",
       "무릎둘레              35.3\n",
       "장딴지둘레             35.4\n",
       "종아리최소둘레           20.4\n",
       "발목둘레              24.2\n",
       "편위팔둘레             29.4\n",
       "편팔꿈치둘레            24.2\n",
       "손목둘레              15.1\n",
       "위팔길이              31.1\n",
       "팔길이               54.6\n",
       "어깨사이너비            37.9\n",
       "머리수직길이            22.8\n",
       "얼굴수직길이            12.0\n",
       "발크기               25.2\n",
       "발너비                9.4\n",
       "얼굴너비              14.6\n",
       "손직선길이             18.7\n",
       "손바닥직선길이           10.4\n",
       "손안쪽가쪽직선길이          7.9\n",
       "몸무게               66.3\n",
       "체지방율              22.0\n",
       "성별                   M\n",
       "나이                  26\n",
       "신발굽높이              3.5\n",
       "나이대                 20\n",
       "BMI          21.898533\n",
       "체중분류              정상체중\n",
       "Name: 856, dtype: object"
      ]
     },
     "execution_count": 269,
     "metadata": {},
     "output_type": "execute_result"
    }
   ],
   "source": [
    "df.loc[856]"
   ]
  },
  {
   "cell_type": "markdown",
   "metadata": {
    "id": "QzO4vot8G_D6"
   },
   "source": [
    "- 865번의 사람과 비슷한 키, 몸무게, 나이, 체지방율 값을 가진 데이터의 평균값으로 결측치 대체"
   ]
  },
  {
   "cell_type": "code",
   "execution_count": 270,
   "metadata": {
    "colab": {
     "base_uri": "https://localhost:8080/",
     "height": 321
    },
    "id": "i43Jj7AtI7wC",
    "outputId": "076b1f2b-c126-494f-f5dd-1850c88d1ea2"
   },
   "outputs": [
    {
     "data": {
      "text/html": [
       "<div>\n",
       "<style scoped>\n",
       "    .dataframe tbody tr th:only-of-type {\n",
       "        vertical-align: middle;\n",
       "    }\n",
       "\n",
       "    .dataframe tbody tr th {\n",
       "        vertical-align: top;\n",
       "    }\n",
       "\n",
       "    .dataframe thead th {\n",
       "        text-align: right;\n",
       "    }\n",
       "</style>\n",
       "<table border=\"1\" class=\"dataframe\">\n",
       "  <thead>\n",
       "    <tr style=\"text-align: right;\">\n",
       "      <th></th>\n",
       "      <th>측정월</th>\n",
       "      <th>측정일</th>\n",
       "      <th>모델번호</th>\n",
       "      <th>키</th>\n",
       "      <th>목뒤높이</th>\n",
       "      <th>엉덩이높이</th>\n",
       "      <th>겨드랑높이</th>\n",
       "      <th>허리높이</th>\n",
       "      <th>샅높이</th>\n",
       "      <th>무릎높이</th>\n",
       "      <th>...</th>\n",
       "      <th>손바닥직선길이</th>\n",
       "      <th>손안쪽가쪽직선길이</th>\n",
       "      <th>몸무게</th>\n",
       "      <th>체지방율</th>\n",
       "      <th>성별</th>\n",
       "      <th>나이</th>\n",
       "      <th>신발굽높이</th>\n",
       "      <th>나이대</th>\n",
       "      <th>BMI</th>\n",
       "      <th>체중분류</th>\n",
       "    </tr>\n",
       "  </thead>\n",
       "  <tbody>\n",
       "    <tr>\n",
       "      <th>862</th>\n",
       "      <td>11</td>\n",
       "      <td>10</td>\n",
       "      <td>M365</td>\n",
       "      <td>169.8</td>\n",
       "      <td>144.4</td>\n",
       "      <td>80.3</td>\n",
       "      <td>125.9</td>\n",
       "      <td>102.6</td>\n",
       "      <td>71.6</td>\n",
       "      <td>45.3</td>\n",
       "      <td>...</td>\n",
       "      <td>10.6</td>\n",
       "      <td>8.4</td>\n",
       "      <td>70.3</td>\n",
       "      <td>20.7</td>\n",
       "      <td>M</td>\n",
       "      <td>55</td>\n",
       "      <td>3.5</td>\n",
       "      <td>50</td>\n",
       "      <td>24.382597</td>\n",
       "      <td>정상체중</td>\n",
       "    </tr>\n",
       "  </tbody>\n",
       "</table>\n",
       "<p>1 rows × 43 columns</p>\n",
       "</div>"
      ],
      "text/plain": [
       "     측정월  측정일  모델번호      키   목뒤높이  엉덩이높이  겨드랑높이   허리높이   샅높이  무릎높이  ...  \\\n",
       "862   11   10  M365  169.8  144.4   80.3  125.9  102.6  71.6  45.3  ...   \n",
       "\n",
       "     손바닥직선길이  손안쪽가쪽직선길이   몸무게  체지방율  성별  나이  신발굽높이  나이대        BMI  체중분류  \n",
       "862     10.6        8.4  70.3  20.7   M  55    3.5   50  24.382597  정상체중  \n",
       "\n",
       "[1 rows x 43 columns]"
      ]
     },
     "execution_count": 270,
     "metadata": {},
     "output_type": "execute_result"
    }
   ],
   "source": [
    "c1 = (df['키'] >= 168) & (df['키'] <= 172)\n",
    "c2 = (df['몸무게'] >= 70) & (df['몸무게'] <= 75)\n",
    "c3 = (df['체지방율'] >= 6) & (df['체지방율'] <= 24)\n",
    "c4 = (df['나이대'] == '50')\n",
    "c5 = (df['성별']=='M')\n",
    "\n",
    "df_filtered = df[c1 & c2 & c3 & c4 &c5]\n",
    "df_filtered"
   ]
  },
  {
   "cell_type": "code",
   "execution_count": 271,
   "metadata": {
    "colab": {
     "base_uri": "https://localhost:8080/"
    },
    "id": "CZpag9HYJLcQ",
    "outputId": "5b4dcab0-a5ab-4846-ca3b-289d7b6c7edc"
   },
   "outputs": [
    {
     "data": {
      "text/plain": [
       "무릎높이     45.3\n",
       "머리둘레     54.6\n",
       "목둘레      38.4\n",
       "젖가슴둘레    93.2\n",
       "허리둘레     86.8\n",
       "Name: 862, dtype: object"
      ]
     },
     "execution_count": 271,
     "metadata": {},
     "output_type": "execute_result"
    }
   ],
   "source": [
    "df.loc[862,['무릎높이','머리둘레','목둘레','젖가슴둘레','허리둘레']]"
   ]
  },
  {
   "cell_type": "code",
   "execution_count": 272,
   "metadata": {
    "id": "JQFl3lxEJrRm"
   },
   "outputs": [],
   "source": [
    "df.loc[865, '무릎높이'] = 45.3\n",
    "df.loc[865, '머리둘레'] = 54.6\n",
    "df.loc[865, '목둘레'] = 38.4\n",
    "df.loc[865, '젖가슴둘레'] = 93.2\n",
    "df.loc[865, '허리둘레'] = 86.8"
   ]
  },
  {
   "cell_type": "code",
   "execution_count": 273,
   "metadata": {
    "colab": {
     "base_uri": "https://localhost:8080/"
    },
    "id": "yYzNv8WFHGm2",
    "outputId": "ec724c6e-7524-48e5-cd30-6c25c9392dbc"
   },
   "outputs": [
    {
     "data": {
      "text/plain": [
       "무릎높이     45.3\n",
       "머리둘레     54.6\n",
       "목둘레      38.4\n",
       "젖가슴둘레    93.2\n",
       "허리둘레     86.8\n",
       "Name: 865, dtype: object"
      ]
     },
     "execution_count": 273,
     "metadata": {},
     "output_type": "execute_result"
    }
   ],
   "source": [
    "df.loc[865,['무릎높이','머리둘레','목둘레','젖가슴둘레','허리둘레']]"
   ]
  },
  {
   "cell_type": "code",
   "execution_count": 274,
   "metadata": {
    "colab": {
     "base_uri": "https://localhost:8080/"
    },
    "id": "OFM8XEYKHO_H",
    "outputId": "a3319755-5eab-4ca0-fb9b-a0d8dbbf45bd"
   },
   "outputs": [
    {
     "data": {
      "text/plain": [
       "측정월          0\n",
       "측정일          0\n",
       "모델번호         0\n",
       "키            0\n",
       "목뒤높이         0\n",
       "엉덩이높이        0\n",
       "겨드랑높이        0\n",
       "허리높이         0\n",
       "샅높이          0\n",
       "무릎높이         0\n",
       "머리둘레         0\n",
       "목둘레          0\n",
       "젖가슴둘레        0\n",
       "허리둘레         0\n",
       "배꼽수준허리둘레     0\n",
       "엉덩이둘레        0\n",
       "넙다리둘레        0\n",
       "무릎둘레         0\n",
       "장딴지둘레        0\n",
       "종아리최소둘레      0\n",
       "발목둘레         0\n",
       "편위팔둘레        0\n",
       "편팔꿈치둘레       0\n",
       "손목둘레         0\n",
       "위팔길이         0\n",
       "팔길이          0\n",
       "어깨사이너비       0\n",
       "머리수직길이       0\n",
       "얼굴수직길이       0\n",
       "발크기          0\n",
       "발너비          0\n",
       "얼굴너비         0\n",
       "손직선길이        0\n",
       "손바닥직선길이      0\n",
       "손안쪽가쪽직선길이    0\n",
       "몸무게          0\n",
       "체지방율         0\n",
       "성별           0\n",
       "나이           0\n",
       "신발굽높이        0\n",
       "나이대          0\n",
       "BMI          0\n",
       "체중분류         0\n",
       "dtype: int64"
      ]
     },
     "execution_count": 274,
     "metadata": {},
     "output_type": "execute_result"
    }
   ],
   "source": [
    "df.isnull().sum()"
   ]
  },
  {
   "cell_type": "markdown",
   "metadata": {
    "id": "N0eaHpGOIGMQ"
   },
   "source": [
    "- 539번 사람의 몸무게, 위팔길이 (65/6, 30/5)\n",
    "- 744번 사람의 얼굴너비 (13/8)\n",
    "- 비슷한 키, 몸무게, 나이, 체지방율 값을 가진 데이터의 평균값으로 대체\n",
    "- 539번 사람 몸무게 값 없으니 몸무게 제외하고 비교"
   ]
  },
  {
   "cell_type": "code",
   "execution_count": 275,
   "metadata": {
    "colab": {
     "base_uri": "https://localhost:8080/"
    },
    "id": "CFYh8lJJHV6o",
    "outputId": "ab020496-1b1c-4779-d51a-03107d4abde1"
   },
   "outputs": [
    {
     "name": "stdout",
     "output_type": "stream",
     "text": [
      "Empty DataFrame\n",
      "Columns: [측정월, 측정일, 모델번호, 키, 목뒤높이, 엉덩이높이, 겨드랑높이, 허리높이, 샅높이, 무릎높이, 머리둘레, 목둘레, 젖가슴둘레, 허리둘레, 배꼽수준허리둘레, 엉덩이둘레, 넙다리둘레, 무릎둘레, 장딴지둘레, 종아리최소둘레, 발목둘레, 편위팔둘레, 편팔꿈치둘레, 손목둘레, 위팔길이, 팔길이, 어깨사이너비, 머리수직길이, 얼굴수직길이, 발크기, 발너비, 얼굴너비, 손직선길이, 손바닥직선길이, 손안쪽가쪽직선길이, 몸무게, 체지방율, 성별, 나이, 신발굽높이, 나이대, BMI, 체중분류]\n",
      "Index: []\n",
      "\n",
      "[0 rows x 43 columns]\n"
     ]
    }
   ],
   "source": [
    "zero_rows = df[(df == 0).any(axis=1)]\n",
    "print(zero_rows)"
   ]
  },
  {
   "cell_type": "code",
   "execution_count": 276,
   "metadata": {
    "colab": {
     "base_uri": "https://localhost:8080/"
    },
    "id": "R2mBR1z-H6Hj",
    "outputId": "c3b20f34-8231-40ee-dff8-f6b6c8e38e42"
   },
   "outputs": [
    {
     "data": {
      "text/plain": [
       "키       170.7\n",
       "몸무게      65.6\n",
       "체지방율     18.9\n",
       "나이         42\n",
       "성별          M\n",
       "Name: 539, dtype: object"
      ]
     },
     "execution_count": 276,
     "metadata": {},
     "output_type": "execute_result"
    }
   ],
   "source": [
    "df.loc[539, ['키','몸무게','체지방율','나이','성별']]"
   ]
  },
  {
   "cell_type": "code",
   "execution_count": 277,
   "metadata": {
    "colab": {
     "base_uri": "https://localhost:8080/",
     "height": 488
    },
    "id": "ahAnXl9yIU3W",
    "outputId": "71ffa19e-abf5-44e4-b9b8-223534368c1b"
   },
   "outputs": [
    {
     "data": {
      "text/html": [
       "<div>\n",
       "<style scoped>\n",
       "    .dataframe tbody tr th:only-of-type {\n",
       "        vertical-align: middle;\n",
       "    }\n",
       "\n",
       "    .dataframe tbody tr th {\n",
       "        vertical-align: top;\n",
       "    }\n",
       "\n",
       "    .dataframe thead th {\n",
       "        text-align: right;\n",
       "    }\n",
       "</style>\n",
       "<table border=\"1\" class=\"dataframe\">\n",
       "  <thead>\n",
       "    <tr style=\"text-align: right;\">\n",
       "      <th></th>\n",
       "      <th>몸무게</th>\n",
       "      <th>위팔길이</th>\n",
       "    </tr>\n",
       "  </thead>\n",
       "  <tbody>\n",
       "    <tr>\n",
       "      <th>523</th>\n",
       "      <td>62.5</td>\n",
       "      <td>33.1</td>\n",
       "    </tr>\n",
       "    <tr>\n",
       "      <th>539</th>\n",
       "      <td>65.6</td>\n",
       "      <td>30.5</td>\n",
       "    </tr>\n",
       "    <tr>\n",
       "      <th>636</th>\n",
       "      <td>70.2</td>\n",
       "      <td>30.3</td>\n",
       "    </tr>\n",
       "    <tr>\n",
       "      <th>679</th>\n",
       "      <td>66.0</td>\n",
       "      <td>29.9</td>\n",
       "    </tr>\n",
       "    <tr>\n",
       "      <th>717</th>\n",
       "      <td>65.4</td>\n",
       "      <td>29.6</td>\n",
       "    </tr>\n",
       "    <tr>\n",
       "      <th>754</th>\n",
       "      <td>62.9</td>\n",
       "      <td>31.8</td>\n",
       "    </tr>\n",
       "    <tr>\n",
       "      <th>775</th>\n",
       "      <td>76.4</td>\n",
       "      <td>31.0</td>\n",
       "    </tr>\n",
       "    <tr>\n",
       "      <th>791</th>\n",
       "      <td>70.7</td>\n",
       "      <td>30.2</td>\n",
       "    </tr>\n",
       "    <tr>\n",
       "      <th>800</th>\n",
       "      <td>58.9</td>\n",
       "      <td>32.6</td>\n",
       "    </tr>\n",
       "    <tr>\n",
       "      <th>805</th>\n",
       "      <td>62.0</td>\n",
       "      <td>30.7</td>\n",
       "    </tr>\n",
       "    <tr>\n",
       "      <th>839</th>\n",
       "      <td>97.4</td>\n",
       "      <td>31.3</td>\n",
       "    </tr>\n",
       "    <tr>\n",
       "      <th>898</th>\n",
       "      <td>67.6</td>\n",
       "      <td>31.7</td>\n",
       "    </tr>\n",
       "    <tr>\n",
       "      <th>904</th>\n",
       "      <td>68.1</td>\n",
       "      <td>33.5</td>\n",
       "    </tr>\n",
       "    <tr>\n",
       "      <th>907</th>\n",
       "      <td>65.3</td>\n",
       "      <td>29.0</td>\n",
       "    </tr>\n",
       "  </tbody>\n",
       "</table>\n",
       "</div>"
      ],
      "text/plain": [
       "      몸무게  위팔길이\n",
       "523  62.5  33.1\n",
       "539  65.6  30.5\n",
       "636  70.2  30.3\n",
       "679  66.0  29.9\n",
       "717  65.4  29.6\n",
       "754  62.9  31.8\n",
       "775  76.4  31.0\n",
       "791  70.7  30.2\n",
       "800  58.9  32.6\n",
       "805  62.0  30.7\n",
       "839  97.4  31.3\n",
       "898  67.6  31.7\n",
       "904  68.1  33.5\n",
       "907  65.3  29.0"
      ]
     },
     "execution_count": 277,
     "metadata": {},
     "output_type": "execute_result"
    }
   ],
   "source": [
    "c1 = (df['키'] >= 168) & (df['키'] <= 172)\n",
    "c3 = (df['체지방율'] <= 24)\n",
    "c4 = (df['나이대'] == '40')\n",
    "c5 = (df['성별']=='M')\n",
    "\n",
    "df_filtered = df[c1 & c3 & c4 &c5]\n",
    "df_filtered[['몸무게','위팔길이']]"
   ]
  },
  {
   "cell_type": "code",
   "execution_count": 278,
   "metadata": {
    "colab": {
     "base_uri": "https://localhost:8080/",
     "height": 457
    },
    "id": "eNuav6xjLvlc",
    "outputId": "50d7eb9e-1e7c-4e0f-9a2e-e8e88c9a51eb"
   },
   "outputs": [
    {
     "data": {
      "text/html": [
       "<div>\n",
       "<style scoped>\n",
       "    .dataframe tbody tr th:only-of-type {\n",
       "        vertical-align: middle;\n",
       "    }\n",
       "\n",
       "    .dataframe tbody tr th {\n",
       "        vertical-align: top;\n",
       "    }\n",
       "\n",
       "    .dataframe thead th {\n",
       "        text-align: right;\n",
       "    }\n",
       "</style>\n",
       "<table border=\"1\" class=\"dataframe\">\n",
       "  <thead>\n",
       "    <tr style=\"text-align: right;\">\n",
       "      <th></th>\n",
       "      <th>몸무게</th>\n",
       "      <th>위팔길이</th>\n",
       "    </tr>\n",
       "  </thead>\n",
       "  <tbody>\n",
       "    <tr>\n",
       "      <th>523</th>\n",
       "      <td>62.5</td>\n",
       "      <td>33.1</td>\n",
       "    </tr>\n",
       "    <tr>\n",
       "      <th>539</th>\n",
       "      <td>65.6</td>\n",
       "      <td>30.5</td>\n",
       "    </tr>\n",
       "    <tr>\n",
       "      <th>636</th>\n",
       "      <td>70.2</td>\n",
       "      <td>30.3</td>\n",
       "    </tr>\n",
       "    <tr>\n",
       "      <th>679</th>\n",
       "      <td>66.0</td>\n",
       "      <td>29.9</td>\n",
       "    </tr>\n",
       "    <tr>\n",
       "      <th>717</th>\n",
       "      <td>65.4</td>\n",
       "      <td>29.6</td>\n",
       "    </tr>\n",
       "    <tr>\n",
       "      <th>754</th>\n",
       "      <td>62.9</td>\n",
       "      <td>31.8</td>\n",
       "    </tr>\n",
       "    <tr>\n",
       "      <th>775</th>\n",
       "      <td>76.4</td>\n",
       "      <td>31.0</td>\n",
       "    </tr>\n",
       "    <tr>\n",
       "      <th>791</th>\n",
       "      <td>70.7</td>\n",
       "      <td>30.2</td>\n",
       "    </tr>\n",
       "    <tr>\n",
       "      <th>800</th>\n",
       "      <td>58.9</td>\n",
       "      <td>32.6</td>\n",
       "    </tr>\n",
       "    <tr>\n",
       "      <th>805</th>\n",
       "      <td>62.0</td>\n",
       "      <td>30.7</td>\n",
       "    </tr>\n",
       "    <tr>\n",
       "      <th>839</th>\n",
       "      <td>97.4</td>\n",
       "      <td>31.3</td>\n",
       "    </tr>\n",
       "    <tr>\n",
       "      <th>898</th>\n",
       "      <td>67.6</td>\n",
       "      <td>31.7</td>\n",
       "    </tr>\n",
       "    <tr>\n",
       "      <th>904</th>\n",
       "      <td>68.1</td>\n",
       "      <td>33.5</td>\n",
       "    </tr>\n",
       "    <tr>\n",
       "      <th>907</th>\n",
       "      <td>65.3</td>\n",
       "      <td>29.0</td>\n",
       "    </tr>\n",
       "  </tbody>\n",
       "</table>\n",
       "</div>"
      ],
      "text/plain": [
       "      몸무게  위팔길이\n",
       "523  62.5  33.1\n",
       "539  65.6  30.5\n",
       "636  70.2  30.3\n",
       "679  66.0  29.9\n",
       "717  65.4  29.6\n",
       "754  62.9  31.8\n",
       "775  76.4  31.0\n",
       "791  70.7  30.2\n",
       "800  58.9  32.6\n",
       "805  62.0  30.7\n",
       "839  97.4  31.3\n",
       "898  67.6  31.7\n",
       "904  68.1  33.5\n",
       "907  65.3  29.0"
      ]
     },
     "execution_count": 278,
     "metadata": {},
     "output_type": "execute_result"
    }
   ],
   "source": [
    "df_filtered_nonzero = df_filtered[~((df_filtered['몸무게'] == 0) | (df_filtered['위팔길이'] == 0))]\n",
    "df_filtered_nonzero[['몸무게','위팔길이']]"
   ]
  },
  {
   "cell_type": "code",
   "execution_count": 279,
   "metadata": {
    "colab": {
     "base_uri": "https://localhost:8080/"
    },
    "id": "WHk6Jc2bKE02",
    "outputId": "c3b7de1e-57d2-4d1b-a165-a3b1659cbdc1"
   },
   "outputs": [
    {
     "data": {
      "text/plain": [
       "(68.5, 31.1)"
      ]
     },
     "execution_count": 279,
     "metadata": {},
     "output_type": "execute_result"
    }
   ],
   "source": [
    "weight_539 = round(df_filtered_nonzero['몸무게'].mean(),1)\n",
    "arm_539 = round(df_filtered_nonzero['위팔길이'].mean(),1)\n",
    "weight_539, arm_539"
   ]
  },
  {
   "cell_type": "code",
   "execution_count": 280,
   "metadata": {
    "id": "zDa2C46DKcVn"
   },
   "outputs": [],
   "source": [
    "#df.loc[539,'몸무게'] = weight_539\n",
    "#df.loc[539,'위팔길이'] = arm_539"
   ]
  },
  {
   "cell_type": "code",
   "execution_count": 281,
   "metadata": {
    "colab": {
     "base_uri": "https://localhost:8080/"
    },
    "id": "CABt_sQMKjq5",
    "outputId": "f294795a-280d-4fd8-d6c8-b3dd6e7e8cc4"
   },
   "outputs": [
    {
     "data": {
      "text/plain": [
       "몸무게     65.6\n",
       "위팔길이    30.5\n",
       "Name: 539, dtype: object"
      ]
     },
     "execution_count": 281,
     "metadata": {},
     "output_type": "execute_result"
    }
   ],
   "source": [
    "df.loc[539,['몸무게','위팔길이']]"
   ]
  },
  {
   "cell_type": "code",
   "execution_count": 282,
   "metadata": {
    "colab": {
     "base_uri": "https://localhost:8080/"
    },
    "id": "LCDckgn5IBFB",
    "outputId": "4f9ba73f-7285-4ef7-9472-e02acbaa8136"
   },
   "outputs": [
    {
     "data": {
      "text/plain": [
       "키       161.1\n",
       "몸무게      68.8\n",
       "체지방율     27.3\n",
       "나이         61\n",
       "성별          M\n",
       "Name: 744, dtype: object"
      ]
     },
     "execution_count": 282,
     "metadata": {},
     "output_type": "execute_result"
    }
   ],
   "source": [
    "df.loc[744, ['키','몸무게','체지방율','나이','성별']]"
   ]
  },
  {
   "cell_type": "code",
   "execution_count": 283,
   "metadata": {
    "colab": {
     "base_uri": "https://localhost:8080/",
     "height": 432
    },
    "id": "_hjeS6TnIg3q",
    "outputId": "547242f2-b013-464f-fe5e-36d0f195e4b8"
   },
   "outputs": [
    {
     "data": {
      "text/html": [
       "<div>\n",
       "<style scoped>\n",
       "    .dataframe tbody tr th:only-of-type {\n",
       "        vertical-align: middle;\n",
       "    }\n",
       "\n",
       "    .dataframe tbody tr th {\n",
       "        vertical-align: top;\n",
       "    }\n",
       "\n",
       "    .dataframe thead th {\n",
       "        text-align: right;\n",
       "    }\n",
       "</style>\n",
       "<table border=\"1\" class=\"dataframe\">\n",
       "  <thead>\n",
       "    <tr style=\"text-align: right;\">\n",
       "      <th></th>\n",
       "      <th>측정월</th>\n",
       "      <th>측정일</th>\n",
       "      <th>모델번호</th>\n",
       "      <th>키</th>\n",
       "      <th>목뒤높이</th>\n",
       "      <th>엉덩이높이</th>\n",
       "      <th>겨드랑높이</th>\n",
       "      <th>허리높이</th>\n",
       "      <th>샅높이</th>\n",
       "      <th>무릎높이</th>\n",
       "      <th>...</th>\n",
       "      <th>손바닥직선길이</th>\n",
       "      <th>손안쪽가쪽직선길이</th>\n",
       "      <th>몸무게</th>\n",
       "      <th>체지방율</th>\n",
       "      <th>성별</th>\n",
       "      <th>나이</th>\n",
       "      <th>신발굽높이</th>\n",
       "      <th>나이대</th>\n",
       "      <th>BMI</th>\n",
       "      <th>체중분류</th>\n",
       "    </tr>\n",
       "  </thead>\n",
       "  <tbody>\n",
       "    <tr>\n",
       "      <th>744</th>\n",
       "      <td>10</td>\n",
       "      <td>28</td>\n",
       "      <td>M247</td>\n",
       "      <td>161.1</td>\n",
       "      <td>132.2</td>\n",
       "      <td>78.1</td>\n",
       "      <td>116.7</td>\n",
       "      <td>98.7</td>\n",
       "      <td>68.2</td>\n",
       "      <td>41.5</td>\n",
       "      <td>...</td>\n",
       "      <td>9.9</td>\n",
       "      <td>8.4</td>\n",
       "      <td>68.8</td>\n",
       "      <td>27.3</td>\n",
       "      <td>M</td>\n",
       "      <td>61</td>\n",
       "      <td>4.5</td>\n",
       "      <td>60</td>\n",
       "      <td>26.509245</td>\n",
       "      <td>비만</td>\n",
       "    </tr>\n",
       "    <tr>\n",
       "      <th>745</th>\n",
       "      <td>10</td>\n",
       "      <td>28</td>\n",
       "      <td>M248</td>\n",
       "      <td>162.9</td>\n",
       "      <td>134.6</td>\n",
       "      <td>75.9</td>\n",
       "      <td>116.7</td>\n",
       "      <td>97.3</td>\n",
       "      <td>67.7</td>\n",
       "      <td>44.5</td>\n",
       "      <td>...</td>\n",
       "      <td>9.6</td>\n",
       "      <td>8.6</td>\n",
       "      <td>71.0</td>\n",
       "      <td>31.6</td>\n",
       "      <td>M</td>\n",
       "      <td>67</td>\n",
       "      <td>3.7</td>\n",
       "      <td>60</td>\n",
       "      <td>26.755692</td>\n",
       "      <td>비만</td>\n",
       "    </tr>\n",
       "    <tr>\n",
       "      <th>915</th>\n",
       "      <td>11</td>\n",
       "      <td>16</td>\n",
       "      <td>M418</td>\n",
       "      <td>161.7</td>\n",
       "      <td>138.4</td>\n",
       "      <td>81.2</td>\n",
       "      <td>122.0</td>\n",
       "      <td>97.9</td>\n",
       "      <td>69.7</td>\n",
       "      <td>43.1</td>\n",
       "      <td>...</td>\n",
       "      <td>9.7</td>\n",
       "      <td>8.2</td>\n",
       "      <td>66.9</td>\n",
       "      <td>34.3</td>\n",
       "      <td>M</td>\n",
       "      <td>69</td>\n",
       "      <td>4.7</td>\n",
       "      <td>60</td>\n",
       "      <td>25.586217</td>\n",
       "      <td>비만</td>\n",
       "    </tr>\n",
       "    <tr>\n",
       "      <th>962</th>\n",
       "      <td>11</td>\n",
       "      <td>27</td>\n",
       "      <td>M465</td>\n",
       "      <td>159.5</td>\n",
       "      <td>134.4</td>\n",
       "      <td>76.9</td>\n",
       "      <td>119.5</td>\n",
       "      <td>94.3</td>\n",
       "      <td>66.3</td>\n",
       "      <td>41.8</td>\n",
       "      <td>...</td>\n",
       "      <td>10.0</td>\n",
       "      <td>8.4</td>\n",
       "      <td>66.7</td>\n",
       "      <td>33.1</td>\n",
       "      <td>M</td>\n",
       "      <td>67</td>\n",
       "      <td>3.1</td>\n",
       "      <td>60</td>\n",
       "      <td>26.218296</td>\n",
       "      <td>비만</td>\n",
       "    </tr>\n",
       "  </tbody>\n",
       "</table>\n",
       "<p>4 rows × 43 columns</p>\n",
       "</div>"
      ],
      "text/plain": [
       "     측정월  측정일  모델번호      키   목뒤높이  엉덩이높이  겨드랑높이  허리높이   샅높이  무릎높이  ...  \\\n",
       "744   10   28  M247  161.1  132.2   78.1  116.7  98.7  68.2  41.5  ...   \n",
       "745   10   28  M248  162.9  134.6   75.9  116.7  97.3  67.7  44.5  ...   \n",
       "915   11   16  M418  161.7  138.4   81.2  122.0  97.9  69.7  43.1  ...   \n",
       "962   11   27  M465  159.5  134.4   76.9  119.5  94.3  66.3  41.8  ...   \n",
       "\n",
       "     손바닥직선길이  손안쪽가쪽직선길이   몸무게  체지방율  성별  나이  신발굽높이  나이대        BMI  체중분류  \n",
       "744      9.9        8.4  68.8  27.3   M  61    4.5   60  26.509245    비만  \n",
       "745      9.6        8.6  71.0  31.6   M  67    3.7   60  26.755692    비만  \n",
       "915      9.7        8.2  66.9  34.3   M  69    4.7   60  25.586217    비만  \n",
       "962     10.0        8.4  66.7  33.1   M  67    3.1   60  26.218296    비만  \n",
       "\n",
       "[4 rows x 43 columns]"
      ]
     },
     "execution_count": 283,
     "metadata": {},
     "output_type": "execute_result"
    }
   ],
   "source": [
    "c1 = (df['키'] >= 159) & (df['키'] <= 163)\n",
    "c2 = (df['몸무게'] >= 65) & (df['몸무게'] <= 72)\n",
    "c3 = (df['체지방율'] > 24)\n",
    "c4 = (df['나이대'] == '60')\n",
    "c5 = (df['성별']=='M')\n",
    "\n",
    "df_filtered = df[c1 & c2 & c3 & c4 &c5]\n",
    "df_filtered"
   ]
  },
  {
   "cell_type": "code",
   "execution_count": 284,
   "metadata": {
    "colab": {
     "base_uri": "https://localhost:8080/"
    },
    "id": "v8QdeZnPOLWY",
    "outputId": "3d3fc4a1-b750-400d-dc6a-48b61a22ddd2"
   },
   "outputs": [
    {
     "data": {
      "text/plain": [
       "744    13.8\n",
       "745    14.2\n",
       "915    14.7\n",
       "962    14.4\n",
       "Name: 얼굴너비, dtype: float64"
      ]
     },
     "execution_count": 284,
     "metadata": {},
     "output_type": "execute_result"
    }
   ],
   "source": [
    "df_filtered_nonzero = df_filtered[~(df_filtered['얼굴너비'] == 0)]\n",
    "df_filtered_nonzero['얼굴너비']"
   ]
  },
  {
   "cell_type": "code",
   "execution_count": 285,
   "metadata": {
    "id": "SdpZikLhLCix"
   },
   "outputs": [],
   "source": [
    "#face_744 = round(df_filtered_nonzero['얼굴너비'].mean(),1)"
   ]
  },
  {
   "cell_type": "code",
   "execution_count": 286,
   "metadata": {
    "id": "UoPzBGJDOYd4"
   },
   "outputs": [],
   "source": [
    "#df.loc[744,'얼굴너비'] = face_744"
   ]
  },
  {
   "cell_type": "code",
   "execution_count": 287,
   "metadata": {
    "colab": {
     "base_uri": "https://localhost:8080/"
    },
    "id": "9A6bI1gOOahe",
    "outputId": "ae9a372a-3eb3-46cf-a4d7-11e3ba597842"
   },
   "outputs": [
    {
     "data": {
      "text/plain": [
       "13.8"
      ]
     },
     "execution_count": 287,
     "metadata": {},
     "output_type": "execute_result"
    }
   ],
   "source": [
    "df.loc[744,'얼굴너비']"
   ]
  },
  {
   "cell_type": "code",
   "execution_count": 288,
   "metadata": {
    "id": "m3Nnwl0xOoRH"
   },
   "outputs": [],
   "source": [
    "df.to_csv('body_data.csv', index=False, encoding='utf-8-sig')"
   ]
  },
  {
   "cell_type": "code",
   "execution_count": 289,
   "metadata": {
    "colab": {
     "base_uri": "https://localhost:8080/",
     "height": 964
    },
    "id": "1kdZoadSPA7t",
    "outputId": "f3decd82-2069-4863-be01-86a54259a5f5"
   },
   "outputs": [
    {
     "data": {
      "text/html": [
       "<div>\n",
       "<style scoped>\n",
       "    .dataframe tbody tr th:only-of-type {\n",
       "        vertical-align: middle;\n",
       "    }\n",
       "\n",
       "    .dataframe tbody tr th {\n",
       "        vertical-align: top;\n",
       "    }\n",
       "\n",
       "    .dataframe thead th {\n",
       "        text-align: right;\n",
       "    }\n",
       "</style>\n",
       "<table border=\"1\" class=\"dataframe\">\n",
       "  <thead>\n",
       "    <tr style=\"text-align: right;\">\n",
       "      <th></th>\n",
       "      <th>측정월</th>\n",
       "      <th>측정일</th>\n",
       "      <th>모델번호</th>\n",
       "      <th>키</th>\n",
       "      <th>목뒤높이</th>\n",
       "      <th>엉덩이높이</th>\n",
       "      <th>겨드랑높이</th>\n",
       "      <th>허리높이</th>\n",
       "      <th>샅높이</th>\n",
       "      <th>무릎높이</th>\n",
       "      <th>...</th>\n",
       "      <th>손바닥직선길이</th>\n",
       "      <th>손안쪽가쪽직선길이</th>\n",
       "      <th>몸무게</th>\n",
       "      <th>체지방율</th>\n",
       "      <th>성별</th>\n",
       "      <th>나이</th>\n",
       "      <th>신발굽높이</th>\n",
       "      <th>나이대</th>\n",
       "      <th>BMI</th>\n",
       "      <th>체중분류</th>\n",
       "    </tr>\n",
       "  </thead>\n",
       "  <tbody>\n",
       "    <tr>\n",
       "      <th>0</th>\n",
       "      <td>8</td>\n",
       "      <td>10</td>\n",
       "      <td>F001</td>\n",
       "      <td>161.4</td>\n",
       "      <td>136.1</td>\n",
       "      <td>80.1</td>\n",
       "      <td>119.8</td>\n",
       "      <td>94.2</td>\n",
       "      <td>73.2</td>\n",
       "      <td>41.6</td>\n",
       "      <td>...</td>\n",
       "      <td>9.2</td>\n",
       "      <td>7.8</td>\n",
       "      <td>62.9</td>\n",
       "      <td>32.8</td>\n",
       "      <td>F</td>\n",
       "      <td>37</td>\n",
       "      <td>7.8</td>\n",
       "      <td>30</td>\n",
       "      <td>24.145910</td>\n",
       "      <td>비만</td>\n",
       "    </tr>\n",
       "    <tr>\n",
       "      <th>1</th>\n",
       "      <td>8</td>\n",
       "      <td>10</td>\n",
       "      <td>F002</td>\n",
       "      <td>168.1</td>\n",
       "      <td>140.4</td>\n",
       "      <td>84.7</td>\n",
       "      <td>123.3</td>\n",
       "      <td>107.0</td>\n",
       "      <td>77.3</td>\n",
       "      <td>45.2</td>\n",
       "      <td>...</td>\n",
       "      <td>9.2</td>\n",
       "      <td>7.0</td>\n",
       "      <td>56.1</td>\n",
       "      <td>31.5</td>\n",
       "      <td>F</td>\n",
       "      <td>26</td>\n",
       "      <td>2.7</td>\n",
       "      <td>20</td>\n",
       "      <td>19.853059</td>\n",
       "      <td>비만</td>\n",
       "    </tr>\n",
       "    <tr>\n",
       "      <th>2</th>\n",
       "      <td>8</td>\n",
       "      <td>10</td>\n",
       "      <td>F003</td>\n",
       "      <td>163.4</td>\n",
       "      <td>138.2</td>\n",
       "      <td>81.9</td>\n",
       "      <td>120.6</td>\n",
       "      <td>97.1</td>\n",
       "      <td>74.8</td>\n",
       "      <td>42.3</td>\n",
       "      <td>...</td>\n",
       "      <td>9.7</td>\n",
       "      <td>7.6</td>\n",
       "      <td>53.2</td>\n",
       "      <td>25.2</td>\n",
       "      <td>F</td>\n",
       "      <td>39</td>\n",
       "      <td>8.0</td>\n",
       "      <td>30</td>\n",
       "      <td>19.925422</td>\n",
       "      <td>정상체중</td>\n",
       "    </tr>\n",
       "    <tr>\n",
       "      <th>3</th>\n",
       "      <td>8</td>\n",
       "      <td>23</td>\n",
       "      <td>F004</td>\n",
       "      <td>164.1</td>\n",
       "      <td>137.8</td>\n",
       "      <td>83.2</td>\n",
       "      <td>123.3</td>\n",
       "      <td>100.1</td>\n",
       "      <td>75.4</td>\n",
       "      <td>42.4</td>\n",
       "      <td>...</td>\n",
       "      <td>10.1</td>\n",
       "      <td>7.6</td>\n",
       "      <td>49.4</td>\n",
       "      <td>21.8</td>\n",
       "      <td>F</td>\n",
       "      <td>30</td>\n",
       "      <td>2.5</td>\n",
       "      <td>30</td>\n",
       "      <td>18.344665</td>\n",
       "      <td>정상체중</td>\n",
       "    </tr>\n",
       "    <tr>\n",
       "      <th>4</th>\n",
       "      <td>8</td>\n",
       "      <td>23</td>\n",
       "      <td>F005</td>\n",
       "      <td>152.9</td>\n",
       "      <td>127.7</td>\n",
       "      <td>71.1</td>\n",
       "      <td>111.3</td>\n",
       "      <td>93.8</td>\n",
       "      <td>63.3</td>\n",
       "      <td>37.0</td>\n",
       "      <td>...</td>\n",
       "      <td>9.1</td>\n",
       "      <td>7.9</td>\n",
       "      <td>51.9</td>\n",
       "      <td>24.2</td>\n",
       "      <td>F</td>\n",
       "      <td>44</td>\n",
       "      <td>1.5</td>\n",
       "      <td>40</td>\n",
       "      <td>22.199970</td>\n",
       "      <td>정상체중</td>\n",
       "    </tr>\n",
       "    <tr>\n",
       "      <th>...</th>\n",
       "      <td>...</td>\n",
       "      <td>...</td>\n",
       "      <td>...</td>\n",
       "      <td>...</td>\n",
       "      <td>...</td>\n",
       "      <td>...</td>\n",
       "      <td>...</td>\n",
       "      <td>...</td>\n",
       "      <td>...</td>\n",
       "      <td>...</td>\n",
       "      <td>...</td>\n",
       "      <td>...</td>\n",
       "      <td>...</td>\n",
       "      <td>...</td>\n",
       "      <td>...</td>\n",
       "      <td>...</td>\n",
       "      <td>...</td>\n",
       "      <td>...</td>\n",
       "      <td>...</td>\n",
       "      <td>...</td>\n",
       "      <td>...</td>\n",
       "    </tr>\n",
       "    <tr>\n",
       "      <th>995</th>\n",
       "      <td>11</td>\n",
       "      <td>30</td>\n",
       "      <td>M498</td>\n",
       "      <td>167.3</td>\n",
       "      <td>141.2</td>\n",
       "      <td>81.4</td>\n",
       "      <td>123.8</td>\n",
       "      <td>98.5</td>\n",
       "      <td>72.4</td>\n",
       "      <td>42.4</td>\n",
       "      <td>...</td>\n",
       "      <td>9.9</td>\n",
       "      <td>7.9</td>\n",
       "      <td>68.0</td>\n",
       "      <td>15.6</td>\n",
       "      <td>M</td>\n",
       "      <td>58</td>\n",
       "      <td>4.3</td>\n",
       "      <td>50</td>\n",
       "      <td>24.295007</td>\n",
       "      <td>정상체중</td>\n",
       "    </tr>\n",
       "    <tr>\n",
       "      <th>996</th>\n",
       "      <td>11</td>\n",
       "      <td>30</td>\n",
       "      <td>M499</td>\n",
       "      <td>169.9</td>\n",
       "      <td>143.2</td>\n",
       "      <td>81.3</td>\n",
       "      <td>127.9</td>\n",
       "      <td>97.6</td>\n",
       "      <td>69.1</td>\n",
       "      <td>42.4</td>\n",
       "      <td>...</td>\n",
       "      <td>9.7</td>\n",
       "      <td>8.2</td>\n",
       "      <td>65.2</td>\n",
       "      <td>17.8</td>\n",
       "      <td>M</td>\n",
       "      <td>53</td>\n",
       "      <td>4.5</td>\n",
       "      <td>50</td>\n",
       "      <td>22.587119</td>\n",
       "      <td>정상체중</td>\n",
       "    </tr>\n",
       "    <tr>\n",
       "      <th>997</th>\n",
       "      <td>11</td>\n",
       "      <td>29</td>\n",
       "      <td>M500</td>\n",
       "      <td>173.7</td>\n",
       "      <td>145.3</td>\n",
       "      <td>84.6</td>\n",
       "      <td>128.0</td>\n",
       "      <td>101.5</td>\n",
       "      <td>74.8</td>\n",
       "      <td>44.4</td>\n",
       "      <td>...</td>\n",
       "      <td>10.1</td>\n",
       "      <td>8.0</td>\n",
       "      <td>67.2</td>\n",
       "      <td>20.3</td>\n",
       "      <td>M</td>\n",
       "      <td>30</td>\n",
       "      <td>2.9</td>\n",
       "      <td>30</td>\n",
       "      <td>22.272534</td>\n",
       "      <td>정상체중</td>\n",
       "    </tr>\n",
       "    <tr>\n",
       "      <th>998</th>\n",
       "      <td>9</td>\n",
       "      <td>28</td>\n",
       "      <td>F339</td>\n",
       "      <td>153.4</td>\n",
       "      <td>127.4</td>\n",
       "      <td>78.6</td>\n",
       "      <td>111.5</td>\n",
       "      <td>92.1</td>\n",
       "      <td>68.0</td>\n",
       "      <td>37.4</td>\n",
       "      <td>...</td>\n",
       "      <td>9.3</td>\n",
       "      <td>7.2</td>\n",
       "      <td>52.1</td>\n",
       "      <td>35.6</td>\n",
       "      <td>F</td>\n",
       "      <td>61</td>\n",
       "      <td>6.7</td>\n",
       "      <td>60</td>\n",
       "      <td>22.140479</td>\n",
       "      <td>비만</td>\n",
       "    </tr>\n",
       "    <tr>\n",
       "      <th>999</th>\n",
       "      <td>11</td>\n",
       "      <td>29</td>\n",
       "      <td>F501</td>\n",
       "      <td>151.7</td>\n",
       "      <td>124.0</td>\n",
       "      <td>71.5</td>\n",
       "      <td>106.6</td>\n",
       "      <td>88.0</td>\n",
       "      <td>65.4</td>\n",
       "      <td>37.8</td>\n",
       "      <td>...</td>\n",
       "      <td>9.3</td>\n",
       "      <td>7.0</td>\n",
       "      <td>52.7</td>\n",
       "      <td>32.5</td>\n",
       "      <td>F</td>\n",
       "      <td>68</td>\n",
       "      <td>5.0</td>\n",
       "      <td>60</td>\n",
       "      <td>22.900209</td>\n",
       "      <td>비만</td>\n",
       "    </tr>\n",
       "  </tbody>\n",
       "</table>\n",
       "<p>1000 rows × 43 columns</p>\n",
       "</div>"
      ],
      "text/plain": [
       "     측정월  측정일  모델번호      키   목뒤높이  엉덩이높이  겨드랑높이   허리높이   샅높이  무릎높이  ...  \\\n",
       "0      8   10  F001  161.4  136.1   80.1  119.8   94.2  73.2  41.6  ...   \n",
       "1      8   10  F002  168.1  140.4   84.7  123.3  107.0  77.3  45.2  ...   \n",
       "2      8   10  F003  163.4  138.2   81.9  120.6   97.1  74.8  42.3  ...   \n",
       "3      8   23  F004  164.1  137.8   83.2  123.3  100.1  75.4  42.4  ...   \n",
       "4      8   23  F005  152.9  127.7   71.1  111.3   93.8  63.3  37.0  ...   \n",
       "..   ...  ...   ...    ...    ...    ...    ...    ...   ...   ...  ...   \n",
       "995   11   30  M498  167.3  141.2   81.4  123.8   98.5  72.4  42.4  ...   \n",
       "996   11   30  M499  169.9  143.2   81.3  127.9   97.6  69.1  42.4  ...   \n",
       "997   11   29  M500  173.7  145.3   84.6  128.0  101.5  74.8  44.4  ...   \n",
       "998    9   28  F339  153.4  127.4   78.6  111.5   92.1  68.0  37.4  ...   \n",
       "999   11   29  F501  151.7  124.0   71.5  106.6   88.0  65.4  37.8  ...   \n",
       "\n",
       "     손바닥직선길이  손안쪽가쪽직선길이   몸무게  체지방율  성별  나이  신발굽높이  나이대        BMI  체중분류  \n",
       "0        9.2        7.8  62.9  32.8   F  37    7.8   30  24.145910    비만  \n",
       "1        9.2        7.0  56.1  31.5   F  26    2.7   20  19.853059    비만  \n",
       "2        9.7        7.6  53.2  25.2   F  39    8.0   30  19.925422  정상체중  \n",
       "3       10.1        7.6  49.4  21.8   F  30    2.5   30  18.344665  정상체중  \n",
       "4        9.1        7.9  51.9  24.2   F  44    1.5   40  22.199970  정상체중  \n",
       "..       ...        ...   ...   ...  ..  ..    ...  ...        ...   ...  \n",
       "995      9.9        7.9  68.0  15.6   M  58    4.3   50  24.295007  정상체중  \n",
       "996      9.7        8.2  65.2  17.8   M  53    4.5   50  22.587119  정상체중  \n",
       "997     10.1        8.0  67.2  20.3   M  30    2.9   30  22.272534  정상체중  \n",
       "998      9.3        7.2  52.1  35.6   F  61    6.7   60  22.140479    비만  \n",
       "999      9.3        7.0  52.7  32.5   F  68    5.0   60  22.900209    비만  \n",
       "\n",
       "[1000 rows x 43 columns]"
      ]
     },
     "execution_count": 289,
     "metadata": {},
     "output_type": "execute_result"
    }
   ],
   "source": [
    "df2 = pd.read_csv('body_data.csv')\n",
    "df2"
   ]
  },
  {
   "cell_type": "code",
   "execution_count": null,
   "metadata": {},
   "outputs": [],
   "source": []
  }
 ],
 "metadata": {
  "colab": {
   "provenance": []
  },
  "kernelspec": {
   "display_name": "Python 3 (ipykernel)",
   "language": "python",
   "name": "python3"
  },
  "language_info": {
   "codemirror_mode": {
    "name": "ipython",
    "version": 3
   },
   "file_extension": ".py",
   "mimetype": "text/x-python",
   "name": "python",
   "nbconvert_exporter": "python",
   "pygments_lexer": "ipython3",
   "version": "3.10.12"
  }
 },
 "nbformat": 4,
 "nbformat_minor": 4
}
